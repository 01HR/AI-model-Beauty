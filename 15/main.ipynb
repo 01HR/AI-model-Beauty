{
 "cells": [
  {
   "cell_type": "code",
   "execution_count": 2,
   "metadata": {},
   "outputs": [
    {
     "name": "stdout",
     "output_type": "stream",
     "text": [
      "OpenAI API 说答案是: \n",
      "\n",
      "352乘以493等于173536。\n",
      "Python 说答案是: 173536\n"
     ]
    }
   ],
   "source": [
    "import openai, os\n",
    "\n",
    "openai.api_key = os.environ.get(\"OPENAI_API_KEY\")\n",
    "\n",
    "from langchain.prompts import PromptTemplate\n",
    "from langchain.llms import OpenAI\n",
    "from langchain.chains import LLMChain\n",
    "\n",
    "llm = OpenAI(model_name=\"gpt-3.5-turbo-instruct\", max_tokens=2048, temperature=0.5)\n",
    "multiply_prompt = PromptTemplate(template=\"请计算一下{question}是多少?\", input_variables=[\"question\"])\n",
    "math_chain = LLMChain(llm=llm, prompt=multiply_prompt, output_key=\"answer\")\n",
    "answer = math_chain.run({\"question\": \"352乘以493\"})\n",
    "print(\"OpenAI API 说答案是:\", answer)\n",
    "\n",
    "python_answer = 352 * 493\n",
    "print(\"Python 说答案是:\", python_answer)\n"
   ]
  },
  {
   "cell_type": "code",
   "execution_count": 3,
   "metadata": {},
   "outputs": [
    {
     "name": "stdout",
     "output_type": "stream",
     "text": [
      "\n",
      "\n",
      "num1 = 352\n",
      "num2 = 493\n",
      "\n",
      "# 方法一：使用内置函数\n",
      "result = num1 * num2\n",
      "\n",
      "# 方法二：使用循环累加\n",
      "result = 0\n",
      "for i in range(num2):\n",
      "    result += num1\n",
      "\n",
      "print(\"352乘以493的结果为：\", result)\n"
     ]
    }
   ],
   "source": [
    "multiply_by_python_prompt = PromptTemplate(template=\"请写一段Python代码，计算{question}?\", input_variables=[\"question\"])\n",
    "math_chain = LLMChain(llm=llm, prompt=multiply_by_python_prompt, output_key=\"answer\")\n",
    "answer = math_chain.run({\"question\": \"352乘以493\"})\n",
    "print(answer)\n"
   ]
  },
  {
   "cell_type": "code",
   "execution_count": 6,
   "metadata": {},
   "outputs": [
    {
     "name": "stderr",
     "output_type": "stream",
     "text": [
      "Python REPL can execute arbitrary code. Use with caution.\n"
     ]
    },
    {
     "name": "stdout",
     "output_type": "stream",
     "text": [
      "173536\n",
      "\n"
     ]
    }
   ],
   "source": [
    "multiply_by_python_prompt = PromptTemplate(template=\"请写一段Python代码，计算{question}?\", input_variables=[\"question\"])\n",
    "math_chain = LLMChain(llm=llm, prompt=multiply_by_python_prompt, output_key=\"answer\")\n",
    "answer_code = math_chain.run({\"question\": \"352乘以493\"})\n",
    "\n",
    "from langchain_experimental.utilities.python import PythonREPL\n",
    "\n",
    "python_repl = PythonREPL()\n",
    "result = python_repl.run(answer_code)\n",
    "print(result)\n"
   ]
  },
  {
   "cell_type": "code",
   "execution_count": 7,
   "metadata": {},
   "outputs": [
    {
     "name": "stderr",
     "output_type": "stream",
     "text": [
      "/var/folders/7l/brdxy3kj6c9g9xvg5k_0kw3h0000gn/T/ipykernel_51602/3695818906.py:3: LangChainDeprecationWarning: This class is deprecated and will be removed in langchain 1.0. See API reference for replacement: https://api.python.langchain.com/en/latest/chains/langchain.chains.llm_math.base.LLMMathChain.html\n",
      "  llm_math = LLMMathChain(llm=llm, verbose=True)\n",
      "/Users/zouguoyang/opt/anaconda3/envs/langchain/lib/python3.9/site-packages/langchain/chains/llm_math/base.py:175: UserWarning: Directly instantiating an LLMMathChain with an llm is deprecated. Please instantiate with llm_chain argument or using the from_llm class method.\n",
      "  warnings.warn(\n"
     ]
    },
    {
     "name": "stdout",
     "output_type": "stream",
     "text": [
      "\n",
      "\n",
      "\u001b[1m> Entering new LLMMathChain chain...\u001b[0m\n",
      "请计算一下352乘以493是多少?\u001b[32;1m\u001b[1;3m```text\n",
      "352 * 493\n",
      "```\n",
      "...numexpr.evaluate(\"352 * 493\")...\n",
      "\u001b[0m\n",
      "Answer: \u001b[33;1m\u001b[1;3m173536\u001b[0m\n",
      "\u001b[1m> Finished chain.\u001b[0m\n",
      "Answer: 173536\n"
     ]
    }
   ],
   "source": [
    "from langchain import LLMMathChain\n",
    "\n",
    "llm_math = LLMMathChain(llm=llm, verbose=True)\n",
    "result = llm_math.run(\"请计算一下352乘以493是多少?\")\n",
    "print(result)\n"
   ]
  },
  {
   "cell_type": "code",
   "execution_count": 12,
   "metadata": {},
   "outputs": [
    {
     "name": "stdout",
     "output_type": "stream",
     "text": [
      "{'query': '现在是北京时间多少，上海的天气怎么样？', 'url': 'https://www.google.com/search?q=现在是北京时间多少，上海的天气怎么样？', 'output': '  现在北京时间是2024年10月10日13:54:25，上海的天气为11~19°。'}\n",
      "  现在北京时间是2024年10月10日13:54:25，上海的天气为11~19°。\n"
     ]
    }
   ],
   "source": [
    "from langchain.chains import LLMRequestsChain\n",
    "\n",
    "template = \"\"\"在 >>> 和 <<< 直接是来自Google的原始搜索结果.\n",
    "请把对于问题 '{query}' 的答案从里面提取出来，如果里面没有相关信息的话就说 \"找不到\"\n",
    "请使用如下格式：\n",
    "Extracted:<answer or \"找不到\">\n",
    ">>> {requests_result} <<<\n",
    "Extracted:\"\"\"\n",
    "\n",
    "PROMPT = PromptTemplate(\n",
    "    input_variables=[\"query\", \"requests_result\"],\n",
    "    template=template,\n",
    ")\n",
    "requests_chain = LLMRequestsChain(llm_chain = LLMChain(llm=OpenAI(temperature=0), prompt=PROMPT))\n",
    "question = \"现在是北京时间多少，上海的天气怎么样？\"\n",
    "inputs = {\n",
    "    \"query\": question,\n",
    "    \"url\": \"https://www.google.com/search?q=\" + question.replace(\" \", \"+\")\n",
    "}\n",
    "result=requests_chain(inputs)\n",
    "print(result)\n",
    "print(result['output'])\n"
   ]
  },
  {
   "cell_type": "markdown",
   "metadata": {},
   "source": [
    "通过 VectorDBQA 来实现先搜索再回复的能力"
   ]
  },
  {
   "cell_type": "code",
   "execution_count": 15,
   "metadata": {},
   "outputs": [
    {
     "name": "stderr",
     "output_type": "stream",
     "text": [
      "/var/folders/7l/brdxy3kj6c9g9xvg5k_0kw3h0000gn/T/ipykernel_51602/2211358665.py:13: LangChainDeprecationWarning: The class `OpenAIEmbeddings` was deprecated in LangChain 0.0.9 and will be removed in 1.0. An updated version of the class exists in the :class:`~langchain-openai package and should be used instead. To use it run `pip install -U :class:`~langchain-openai` and import as `from :class:`~langchain_openai import OpenAIEmbeddings``.\n",
      "  embeddings = OpenAIEmbeddings()\n",
      "/Users/zouguoyang/opt/anaconda3/envs/langchain/lib/python3.9/site-packages/langchain/chains/retrieval_qa/base.py:316: UserWarning: `VectorDBQA` is deprecated - please use `from langchain.chains import RetrievalQA`\n",
      "  warnings.warn(\n"
     ]
    }
   ],
   "source": [
    "from langchain.embeddings.openai import OpenAIEmbeddings\n",
    "from langchain.vectorstores import FAISS\n",
    "from langchain.text_splitter import SpacyTextSplitter\n",
    "from langchain import OpenAI, VectorDBQA\n",
    "from langchain.document_loaders import TextLoader\n",
    "\n",
    "llm = OpenAI(temperature=0)\n",
    "loader = TextLoader('./data/demo.txt')\n",
    "documents = loader.load()\n",
    "text_splitter = SpacyTextSplitter(chunk_size=256, pipeline=\"zh_core_web_sm\")\n",
    "texts = text_splitter.split_documents(documents)\n",
    "\n",
    "embeddings = OpenAIEmbeddings()\n",
    "docsearch = FAISS.from_documents(texts, embeddings)\n",
    "\n",
    "faq_chain = VectorDBQA.from_chain_type(llm=llm, vectorstore=docsearch, verbose=True)\n"
   ]
  },
  {
   "cell_type": "code",
   "execution_count": 16,
   "metadata": {},
   "outputs": [
    {
     "data": {
      "text/plain": [
       "[Document(metadata={'source': './data/demo.txt'}, page_content='望着测验魔石碑上面闪亮得甚至有些刺眼的五个大字，少年面无表情，唇角有着一抹自嘲，紧握的手掌，因为大力，而导致略微尖锐的指甲深深的刺进了掌心之中，带来一阵阵钻心的疼痛…\\n\\n萧炎，斗之力，三段！\\n\\n级别：低级！”\\n\\n测验魔石碑之旁，一位中年男子，看了一眼碑上所显示出来的信息，语气漠然的将之公布了出来…\\n\\n中年男子话刚刚脱口，便是不出意外的在人头汹涌的广场上带起了一阵嘲讽的骚动。\\n\\n“三段？\\n\\n嘿嘿，果然不出我所料，这个“天才”这一年又是在原地踏步！”\\n\\n“哎，这废物真是把家族的脸都给丢光了。”'),\n",
       " Document(metadata={'source': './data/demo.txt'}, page_content='萧炎，斗之力，三段！\\n\\n级别：低级！”\\n\\n测验魔石碑之旁，一位中年男子，看了一眼碑上所显示出来的信息，语气漠然的将之公布了出来…\\n\\n中年男子话刚刚脱口，便是不出意外的在人头汹涌的广场上带起了一阵嘲讽的骚动。\\n\\n“三段？\\n\\n嘿嘿，果然不出我所料，这个“天才”这一年又是在原地踏步！”\\n\\n“哎，这废物真是把家族的脸都给丢光了。”\\n\\n“要不是族长是他的父亲，这种废物，早就被驱赶出家族，任其自生自灭了，哪还有机会待在家族中白吃白喝。”\\n\\n“唉，昔年那名闻乌坦城的天才少年，如今怎么落魄成这般模样了啊？”'),\n",
       " Document(metadata={'source': './data/demo.txt'}, page_content='中年男子话刚刚脱口，便是不出意外的在人头汹涌的广场上带起了一阵嘲讽的骚动。\\n\\n“三段？\\n\\n嘿嘿，果然不出我所料，这个“天才”这一年又是在原地踏步！”\\n\\n“哎，这废物真是把家族的脸都给丢光了。”\\n\\n“要不是族长是他的父亲，这种废物，早就被驱赶出家族，任其自生自灭了，哪还有机会待在家族中白吃白喝。”\\n\\n“唉，昔年那名闻乌坦城的天才少年，如今怎么落魄成这般模样了啊？”\\n\\n“谁知道呢，或许做了什么亏心事，惹得神灵降怒了吧…”'),\n",
       " Document(metadata={'source': './data/demo.txt'}, page_content='“三段？\\n\\n嘿嘿，果然不出我所料，这个“天才”这一年又是在原地踏步！”\\n\\n“哎，这废物真是把家族的脸都给丢光了。”\\n\\n“要不是族长是他的父亲，这种废物，早就被驱赶出家族，任其自生自灭了，哪还有机会待在家族中白吃白喝。”\\n\\n“唉，昔年那名闻乌坦城的天才少年，如今怎么落魄成这般模样了啊？”\\n\\n“谁知道呢，或许做了什么亏心事，惹得神灵降怒了吧…”\\n\\n周围传来的不屑嘲笑以及惋惜轻叹，落在那如木桩待在原地的少年耳中，恍如一根根利刺狠狠的扎在心脏一般，让得少年呼吸微微急促。'),\n",
       " Document(metadata={'source': './data/demo.txt'}, page_content='“要不是族长是他的父亲，这种废物，早就被驱赶出家族，任其自生自灭了，哪还有机会待在家族中白吃白喝。”\\n\\n“唉，昔年那名闻乌坦城的天才少年，如今怎么落魄成这般模样了啊？”\\n\\n“谁知道呢，或许做了什么亏心事，惹得神灵降怒了吧…”\\n\\n周围传来的不屑嘲笑以及惋惜轻叹，落在那如木桩待在原地的少年耳中，恍如一根根利刺狠狠的扎在心脏一般，让得少年呼吸微微急促。\\n\\n少年缓缓抬起头来，露出一张有些清秀的稚嫩脸庞，漆黑的眸子木然的在周围那些嘲讽的同龄人身上扫过，少年嘴角的自嘲，似乎变得更加苦涩了。'),\n",
       " Document(metadata={'source': './data/demo.txt'}, page_content='“唉，昔年那名闻乌坦城的天才少年，如今怎么落魄成这般模样了啊？”\\n\\n“谁知道呢，或许做了什么亏心事，惹得神灵降怒了吧…”\\n\\n周围传来的不屑嘲笑以及惋惜轻叹，落在那如木桩待在原地的少年耳中，恍如一根根利刺狠狠的扎在心脏一般，让得少年呼吸微微急促。\\n\\n少年缓缓抬起头来，露出一张有些清秀的稚嫩脸庞，漆黑的眸子木然的在周围那些嘲讽的同龄人身上扫过，少年嘴角的自嘲，似乎变得更加苦涩了。\\n\\n“这些人，都如此刻薄势力吗？\\n\\n或许是因为三年前他们曾经在自己面前露出过最谦卑的笑容，所以，如今想要讨还回去吧…”'),\n",
       " Document(metadata={'source': './data/demo.txt'}, page_content='周围传来的不屑嘲笑以及惋惜轻叹，落在那如木桩待在原地的少年耳中，恍如一根根利刺狠狠的扎在心脏一般，让得少年呼吸微微急促。\\n\\n少年缓缓抬起头来，露出一张有些清秀的稚嫩脸庞，漆黑的眸子木然的在周围那些嘲讽的同龄人身上扫过，少年嘴角的自嘲，似乎变得更加苦涩了。\\n\\n“这些人，都如此刻薄势力吗？\\n\\n或许是因为三年前他们曾经在自己面前露出过最谦卑的笑容，所以，如今想要讨还回去吧…”\\n\\n苦涩的一笑，萧炎落寞的转身，安静的回到了队伍的最后一排，孤单的身影，与周围的世界，有些格格不入。\\n\\n“下一个，萧媚！”'),\n",
       " Document(metadata={'source': './data/demo.txt'}, page_content='少年缓缓抬起头来，露出一张有些清秀的稚嫩脸庞，漆黑的眸子木然的在周围那些嘲讽的同龄人身上扫过，少年嘴角的自嘲，似乎变得更加苦涩了。\\n\\n“这些人，都如此刻薄势力吗？\\n\\n或许是因为三年前他们曾经在自己面前露出过最谦卑的笑容，所以，如今想要讨还回去吧…”\\n\\n苦涩的一笑，萧炎落寞的转身，安静的回到了队伍的最后一排，孤单的身影，与周围的世界，有些格格不入。\\n\\n“下一个，萧媚！”\\n\\n听着测验人的喊声，一名少女快速的人群中跑出，少女刚刚出场，附近的议论声便是小了许多，一双双略微火热的目光，牢牢的锁定着少女的脸颊…'),\n",
       " Document(metadata={'source': './data/demo.txt'}, page_content='或许是因为三年前他们曾经在自己面前露出过最谦卑的笑容，所以，如今想要讨还回去吧…”\\n\\n苦涩的一笑，萧炎落寞的转身，安静的回到了队伍的最后一排，孤单的身影，与周围的世界，有些格格不入。\\n\\n“下一个，萧媚！”\\n\\n听着测验人的喊声，一名少女快速的人群中跑出，少女刚刚出场，附近的议论声便是小了许多，一双双略微火热的目光，牢牢的锁定着少女的脸颊…\\n\\n少女年龄不过十四左右，虽然并算不上绝色，不过那张稚气未脱的小脸，却是蕴含着淡淡的妩媚，清纯与妩媚，矛盾的集合，让得她成功的成为了全场瞩目的焦点…'),\n",
       " Document(metadata={'source': './data/demo.txt'}, page_content='苦涩的一笑，萧炎落寞的转身，安静的回到了队伍的最后一排，孤单的身影，与周围的世界，有些格格不入。\\n\\n“下一个，萧媚！”\\n\\n听着测验人的喊声，一名少女快速的人群中跑出，少女刚刚出场，附近的议论声便是小了许多，一双双略微火热的目光，牢牢的锁定着少女的脸颊…\\n\\n少女年龄不过十四左右，虽然并算不上绝色，不过那张稚气未脱的小脸，却是蕴含着淡淡的妩媚，清纯与妩媚，矛盾的集合，让得她成功的成为了全场瞩目的焦点…\\n\\n少女快步上前，小手轻车熟路的触摸着漆黑的魔石碑，然后缓缓闭上眼睛…'),\n",
       " Document(metadata={'source': './data/demo.txt'}, page_content='“下一个，萧媚！”\\n\\n听着测验人的喊声，一名少女快速的人群中跑出，少女刚刚出场，附近的议论声便是小了许多，一双双略微火热的目光，牢牢的锁定着少女的脸颊…\\n\\n少女年龄不过十四左右，虽然并算不上绝色，不过那张稚气未脱的小脸，却是蕴含着淡淡的妩媚，清纯与妩媚，矛盾的集合，让得她成功的成为了全场瞩目的焦点…\\n\\n少女快步上前，小手轻车熟路的触摸着漆黑的魔石碑，然后缓缓闭上眼睛…\\n\\n在少女闭眼片刻之后，漆黑的魔石碑之上再次亮起了光芒…\\n\\n“斗之气：七段！”\\n\\n“萧媚，斗之气：七段！\\n\\n级别:高级！”\\n\\n“耶！”'),\n",
       " Document(metadata={'source': './data/demo.txt'}, page_content='少女年龄不过十四左右，虽然并算不上绝色，不过那张稚气未脱的小脸，却是蕴含着淡淡的妩媚，清纯与妩媚，矛盾的集合，让得她成功的成为了全场瞩目的焦点…\\n\\n少女快步上前，小手轻车熟路的触摸着漆黑的魔石碑，然后缓缓闭上眼睛…\\n\\n在少女闭眼片刻之后，漆黑的魔石碑之上再次亮起了光芒…\\n\\n“斗之气：七段！”\\n\\n“萧媚，斗之气：七段！\\n\\n级别:高级！”\\n\\n“耶！”\\n\\n听着测验员所喊出的成绩，少女脸颊扬起了得意的笑容…\\n\\n“啧啧，七段斗之气，真了不起，按这进度，恐怕顶多只需要三年时间，她就能称为一名真正的斗者了吧…”'),\n",
       " Document(metadata={'source': './data/demo.txt'}, page_content='少女快步上前，小手轻车熟路的触摸着漆黑的魔石碑，然后缓缓闭上眼睛…\\n\\n在少女闭眼片刻之后，漆黑的魔石碑之上再次亮起了光芒…\\n\\n“斗之气：七段！”\\n\\n“萧媚，斗之气：七段！\\n\\n级别:高级！”\\n\\n“耶！”\\n\\n听着测验员所喊出的成绩，少女脸颊扬起了得意的笑容…\\n\\n“啧啧，七段斗之气，真了不起，按这进度，恐怕顶多只需要三年时间，她就能称为一名真正的斗者了吧…”\\n\\n“不愧是家族中种子级别的人物啊…”\\n\\n听着人群中传来的一阵阵羡慕声，少女脸颊上的笑容更是多了几分，虚荣心，这是很多女孩都无法抗拒的诱惑…'),\n",
       " Document(metadata={'source': './data/demo.txt'}, page_content='“斗之气：七段！”\\n\\n“萧媚，斗之气：七段！\\n\\n级别:高级！”\\n\\n“耶！”\\n\\n听着测验员所喊出的成绩，少女脸颊扬起了得意的笑容…\\n\\n“啧啧，七段斗之气，真了不起，按这进度，恐怕顶多只需要三年时间，她就能称为一名真正的斗者了吧…”\\n\\n“不愧是家族中种子级别的人物啊…”\\n\\n听着人群中传来的一阵阵羡慕声，少女脸颊上的笑容更是多了几分，虚荣心，这是很多女孩都无法抗拒的诱惑…\\n\\n与平日里的几个姐妹互相笑谈着，萧媚的视线，忽然的透过周围的人群，停在了人群外的那一道孤单身影上…'),\n",
       " Document(metadata={'source': './data/demo.txt'}, page_content='“不愧是家族中种子级别的人物啊…”\\n\\n听着人群中传来的一阵阵羡慕声，少女脸颊上的笑容更是多了几分，虚荣心，这是很多女孩都无法抗拒的诱惑…\\n\\n与平日里的几个姐妹互相笑谈着，萧媚的视线，忽然的透过周围的人群，停在了人群外的那一道孤单身影上…\\n\\n皱眉思虑了瞬间，萧媚还是打消了过去的念头，现在的两人，已经不在同一个阶层之上，以萧炎最近几年的表现，成年后，顶多只能作为家族中的下层人员，而天赋优秀的她，则将会成为家族重点培养的强者，前途可以说是不可限量。'),\n",
       " Document(metadata={'source': './data/demo.txt'}, page_content='与平日里的几个姐妹互相笑谈着，萧媚的视线，忽然的透过周围的人群，停在了人群外的那一道孤单身影上…\\n\\n皱眉思虑了瞬间，萧媚还是打消了过去的念头，现在的两人，已经不在同一个阶层之上，以萧炎最近几年的表现，成年后，顶多只能作为家族中的下层人员，而天赋优秀的她，则将会成为家族重点培养的强者，前途可以说是不可限量。\\n\\n“唉…”莫名的轻叹了一口气，萧媚脑中忽然浮现出三年前那意气风发的少年，四岁练气，十岁拥有九段斗之气，十一岁突破十段斗之气，成功凝聚斗之气旋，一跃成为家族百年之内最年轻的斗者！'),\n",
       " Document(metadata={'source': './data/demo.txt'}, page_content='皱眉思虑了瞬间，萧媚还是打消了过去的念头，现在的两人，已经不在同一个阶层之上，以萧炎最近几年的表现，成年后，顶多只能作为家族中的下层人员，而天赋优秀的她，则将会成为家族重点培养的强者，前途可以说是不可限量。\\n\\n“唉…”莫名的轻叹了一口气，萧媚脑中忽然浮现出三年前那意气风发的少年，四岁练气，十岁拥有九段斗之气，十一岁突破十段斗之气，成功凝聚斗之气旋，一跃成为家族百年之内最年轻的斗者！\\n\\n当初的少年，自信而且潜力无可估量，不知让得多少少女对其春心荡漾，\\n\\n当然，这也包括以前的萧媚。'),\n",
       " Document(metadata={'source': './data/demo.txt'}, page_content='“唉…”莫名的轻叹了一口气，萧媚脑中忽然浮现出三年前那意气风发的少年，四岁练气，十岁拥有九段斗之气，十一岁突破十段斗之气，成功凝聚斗之气旋，一跃成为家族百年之内最年轻的斗者！\\n\\n当初的少年，自信而且潜力无可估量，不知让得多少少女对其春心荡漾，\\n\\n当然，这也包括以前的萧媚。\\n\\n然而天才的道路，貌似总是曲折的，三年之前，这名声望达到巅峰的天才少年，却是突兀的接受到了有生以来最残酷的打击，不仅辛辛苦苦修炼十数载方才凝聚的斗之气旋，一夜之间，化为乌有，而且体内的斗之气，也是随着时间的流逝，变得诡异的越来越少。'),\n",
       " Document(metadata={'source': './data/demo.txt'}, page_content='当初的少年，自信而且潜力无可估量，不知让得多少少女对其春心荡漾，\\n\\n当然，这也包括以前的萧媚。\\n\\n然而天才的道路，貌似总是曲折的，三年之前，这名声望达到巅峰的天才少年，却是突兀的接受到了有生以来最残酷的打击，不仅辛辛苦苦修炼十数载方才凝聚的斗之气旋，一夜之间，化为乌有，而且体内的斗之气，也是随着时间的流逝，变得诡异的越来越少。\\n\\n斗之气消失的直接结果，便是导致其实力不断的后退。\\n\\n从天才的神坛，一夜跌落到了连普通人都不如的地步，这种打击，让得少年从此失魂落魄，天才之名，也是逐渐的被不屑与嘲讽所替代。'),\n",
       " Document(metadata={'source': './data/demo.txt'}, page_content='斗之气消失的直接结果，便是导致其实力不断的后退。\\n\\n从天才的神坛，一夜跌落到了连普通人都不如的地步，这种打击，让得少年从此失魂落魄，天才之名，也是逐渐的被不屑与嘲讽所替代。\\n\\n站的越高，摔得越狠，这次的跌落，或许就再也没有爬起的机会。\\n\\n“下一个，萧薰儿！”\\n\\n喧闹的人群中，测试员的声音，再次响了起来。\\n\\n随着这有些清雅的名字响起，人群忽然的安静了下来，所有的视线，豁然转移。\\n\\n在众人视线汇聚之处，一位身着紫色衣裙的少女，正淡雅的站立，平静的稚嫩俏脸，并未因为众人的注目而改变分毫。'),\n",
       " Document(metadata={'source': './data/demo.txt'}, page_content='站的越高，摔得越狠，这次的跌落，或许就再也没有爬起的机会。\\n\\n“下一个，萧薰儿！”\\n\\n喧闹的人群中，测试员的声音，再次响了起来。\\n\\n随着这有些清雅的名字响起，人群忽然的安静了下来，所有的视线，豁然转移。\\n\\n在众人视线汇聚之处，一位身着紫色衣裙的少女，正淡雅的站立，平静的稚嫩俏脸，并未因为众人的注目而改变分毫。\\n\\n少女清冷淡然的气质，犹如清莲初绽，小小年纪，却已初具脱俗气质，难以想象，日后若是长大，少女将会如何的倾国倾城…'),\n",
       " Document(metadata={'source': './data/demo.txt'}, page_content='“下一个，萧薰儿！”\\n\\n喧闹的人群中，测试员的声音，再次响了起来。\\n\\n随着这有些清雅的名字响起，人群忽然的安静了下来，所有的视线，豁然转移。\\n\\n在众人视线汇聚之处，一位身着紫色衣裙的少女，正淡雅的站立，平静的稚嫩俏脸，并未因为众人的注目而改变分毫。\\n\\n少女清冷淡然的气质，犹如清莲初绽，小小年纪，却已初具脱俗气质，难以想象，日后若是长大，少女将会如何的倾国倾城…\\n\\n这名紫裙少女，论起美貌与气质来，比先前的萧媚，无疑还要更胜上几分，也难怪在场的众人都是这般动作。'),\n",
       " Document(metadata={'source': './data/demo.txt'}, page_content='在众人视线汇聚之处，一位身着紫色衣裙的少女，正淡雅的站立，平静的稚嫩俏脸，并未因为众人的注目而改变分毫。\\n\\n少女清冷淡然的气质，犹如清莲初绽，小小年纪，却已初具脱俗气质，难以想象，日后若是长大，少女将会如何的倾国倾城…\\n\\n这名紫裙少女，论起美貌与气质来，比先前的萧媚，无疑还要更胜上几分，也难怪在场的众人都是这般动作。\\n\\n莲步微移，名为萧薰儿的少女行到魔石碑之前，小手伸出，镶着黑金丝的紫袖滑落而下，露出一截雪白娇嫩的皓腕，然后轻触着石碑…\\n\\n微微沉静，石碑之上，刺眼的光芒再次绽放。\\n\\n“斗之气：九段！'),\n",
       " Document(metadata={'source': './data/demo.txt'}, page_content='少女清冷淡然的气质，犹如清莲初绽，小小年纪，却已初具脱俗气质，难以想象，日后若是长大，少女将会如何的倾国倾城…\\n\\n这名紫裙少女，论起美貌与气质来，比先前的萧媚，无疑还要更胜上几分，也难怪在场的众人都是这般动作。\\n\\n莲步微移，名为萧薰儿的少女行到魔石碑之前，小手伸出，镶着黑金丝的紫袖滑落而下，露出一截雪白娇嫩的皓腕，然后轻触着石碑…\\n\\n微微沉静，石碑之上，刺眼的光芒再次绽放。\\n\\n“斗之气：九段！\\n\\n级别：高级！”\\n\\n望着石碑之上的字体，场中陷入了一阵寂静。\\n\\n“…\\n\\n竟然到九段了，真是恐怖！'),\n",
       " Document(metadata={'source': './data/demo.txt'}, page_content='这名紫裙少女，论起美貌与气质来，比先前的萧媚，无疑还要更胜上几分，也难怪在场的众人都是这般动作。\\n\\n莲步微移，名为萧薰儿的少女行到魔石碑之前，小手伸出，镶着黑金丝的紫袖滑落而下，露出一截雪白娇嫩的皓腕，然后轻触着石碑…\\n\\n微微沉静，石碑之上，刺眼的光芒再次绽放。\\n\\n“斗之气：九段！\\n\\n级别：高级！”\\n\\n望着石碑之上的字体，场中陷入了一阵寂静。\\n\\n“…\\n\\n竟然到九段了，真是恐怖！\\n\\n家族中年轻一辈的第一人，恐怕非薰儿小姐莫属了。”\\n\\n寂静过后，周围的少年，都是不由自主的咽了一口唾沫，眼神充满敬畏…')]"
      ]
     },
     "execution_count": 16,
     "metadata": {},
     "output_type": "execute_result"
    }
   ],
   "source": [
    "texts"
   ]
  },
  {
   "cell_type": "code",
   "execution_count": 33,
   "metadata": {},
   "outputs": [
    {
     "name": "stdout",
     "output_type": "stream",
     "text": [
      "\n",
      "\n",
      "\u001b[1m> Entering new VectorDBQA chain...\u001b[0m\n",
      "\n",
      "\u001b[1m> Finished chain.\u001b[0m\n",
      " 不，萧炎不是最厉害的。\n"
     ]
    }
   ],
   "source": [
    "question = \"萧炎是最厉害的吗，请用中文回答\"\n",
    "result = faq_chain.run(question)\n",
    "print(result)\n"
   ]
  },
  {
   "cell_type": "markdown",
   "metadata": {},
   "source": [
    "Langflow是啥\n",
    "\n",
    "Langflow is an open-source UI-based tool for building and deploying language model-powered applications, specifically designed to work with frameworks like LangChain. It allows users to visually design complex workflows by connecting various components such as language models (like GPT), chains, and tools (like databases or APIs), making it easier to integrate and manage these models in different projects.\n",
    "\n",
    "With Langflow, you can drag and drop components to create custom pipelines, manage configurations, and easily test workflows without needing to write much code. It’s particularly useful for developers working with large language models and natural language processing tasks who want a more user-friendly and visual approach to building applications."
   ]
  }
 ],
 "metadata": {
  "kernelspec": {
   "display_name": "langchain",
   "language": "python",
   "name": "python3"
  },
  "language_info": {
   "codemirror_mode": {
    "name": "ipython",
    "version": 3
   },
   "file_extension": ".py",
   "mimetype": "text/x-python",
   "name": "python",
   "nbconvert_exporter": "python",
   "pygments_lexer": "ipython3",
   "version": "3.9.19"
  }
 },
 "nbformat": 4,
 "nbformat_minor": 2
}
