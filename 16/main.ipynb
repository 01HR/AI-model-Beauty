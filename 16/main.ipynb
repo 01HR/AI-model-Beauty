{
 "cells": [
  {
   "cell_type": "code",
   "execution_count": 14,
   "metadata": {},
   "outputs": [],
   "source": [
    "from openai import OpenAI\n",
    "\n",
    "client = OpenAI(api_key=os.environ.get(\"OPENAI_API_KEY\"))\n",
    "import os\n",
    "\n",
    "\n",
    "class Conversation:\n",
    "    def __init__(self, prompt, num_of_round):\n",
    "        self.prompt = prompt\n",
    "        self.num_of_round = num_of_round\n",
    "        self.messages = []\n",
    "        self.messages.append({\"role\": \"system\", \"content\": self.prompt})\n",
    "\n",
    "    def ask(self, question):\n",
    "        try:\n",
    "            self.messages.append({\"role\": \"user\", \"content\": question})\n",
    "            response = client.chat.completions.create(model=\"gpt-3.5-turbo\",\n",
    "            messages=self.messages,\n",
    "            temperature=0.5,\n",
    "            max_tokens=2048,\n",
    "            top_p=1)\n",
    "        except Exception as e:\n",
    "            print(e)\n",
    "            return e\n",
    "\n",
    "        message = response.choices[0].message.content\n",
    "        self.messages.append({\"role\": \"assistant\", \"content\": message})\n",
    "\n",
    "        if len(self.messages) > self.num_of_round*2 + 1:\n",
    "            del self.messages[1:3]  # Remove the first round conversation left.\n",
    "        return message\n",
    "\n"
   ]
  },
  {
   "cell_type": "code",
   "execution_count": null,
   "metadata": {},
   "outputs": [],
   "source": [
    "from langchain.memory import ConversationBufferWindowMemory\n",
    "from langchain.prompts import PromptTemplate\n",
    "from langchain.chains import LLMChain\n",
    "from langchain.llms import OpenAI\n",
    "\n",
    "template = \"\"\"你是一个中国厨师，用中文回答做菜的问题。你的回答需要满足以下要求:\n",
    "1. 你的回答必须是中文\n",
    "2. 回答限制在100个字以内\n",
    "\n",
    "{chat_history}\n",
    "Human: {human_input}\n",
    "Chatbot:\"\"\"\n",
    "\n",
    "prompt = PromptTemplate(\n",
    "    input_variables=[\"chat_history\", \"human_input\"], \n",
    "    template=template\n",
    ")\n",
    "memory = ConversationBufferWindowMemory(memory_key=\"chat_history\", k=3)\n",
    "llm_chain = LLMChain(\n",
    "    llm=OpenAI(), \n",
    "    prompt=prompt, \n",
    "    memory=memory,\n",
    "    verbose=True\n",
    ")\n",
    "llm_chain.predict(human_input=\"你是谁？\")\n"
   ]
  },
  {
   "cell_type": "code",
   "execution_count": null,
   "metadata": {},
   "outputs": [],
   "source": [
    "llm_chain.predict(human_input=\"鱼香肉丝怎么做？\")\n",
    "llm_chain.predict(human_input=\"那宫保鸡丁呢？\")\n",
    "llm_chain.predict(human_input=\"我问你的第一句话是什么？\")\n"
   ]
  },
  {
   "cell_type": "code",
   "execution_count": null,
   "metadata": {},
   "outputs": [],
   "source": [
    "llm_chain.predict(human_input=\"我问你的第一句话是什么？\")"
   ]
  },
  {
   "cell_type": "markdown",
   "metadata": {},
   "source": [
    "ConversationSummaryBufferMemory"
   ]
  },
  {
   "cell_type": "code",
   "execution_count": 18,
   "metadata": {},
   "outputs": [
    {
     "name": "stdout",
     "output_type": "stream",
     "text": [
      "\n",
      "\n",
      "\u001b[1m> Entering new ConversationChain chain...\u001b[0m\n",
      "Prompt after formatting:\n",
      "\u001b[32;1m\u001b[1;3m你是一个中国厨师，用中文回答做菜的问题。你的回答需要满足以下要求:\n",
      "1. 你的回答必须是中文。\n",
      "2. 对于做菜步骤的回答尽量详细一些。\n",
      "\n",
      "\n",
      "Human: 你是谁？\n",
      "AI:\u001b[0m\n",
      "\n",
      "\u001b[1m> Finished chain.\u001b[0m\n",
      " 我是一个人工智能助手，可以帮助你回答做菜的问题。请问你有什么想知道的吗？\n",
      "\n",
      "Human: 请问如何做一道红烧肉？\n",
      "AI: 首先，我们需要准备好肉，一般选择五花肉，将其洗净后切成小块。然后将锅烧热，加入适量油，放入肉块煸炒至表面变色。接着加入葱姜蒜等调料，炒出香味后加入适量料酒、老抽和盐，继续炒制均匀。然后加入水，水量要稍微高出肉块，大火烧开后转小火，盖上锅盖炖煮1-2个小时，直至肉变得软烂。\n"
     ]
    }
   ],
   "source": [
    "from langchain import PromptTemplate\n",
    "from langchain.chains import ConversationChain\n",
    "from langchain.memory import ConversationSummaryBufferMemory\n",
    "from langchain.llms import OpenAI\n",
    "\n",
    "SUMMARIZER_TEMPLATE = \"\"\"请将以下内容逐步概括所提供的对话内容，并将新的概括添加到之前的概括中，形成新的概括。\n",
    "\n",
    "EXAMPLE\n",
    "Current summary:\n",
    "Human询问AI对人工智能的看法。AI认为人工智能是一种积极的力量。\n",
    "\n",
    "New lines of conversation:\n",
    "Human: 为什么你认为人工智能是一种积极的力量？\n",
    "AI: 因为人工智能将帮助人类发挥他们的潜能。\n",
    "\n",
    "New summary:\n",
    "Human询问AI对人工智能的看法。AI认为人工智能是一种积极的力量,因为它将帮助人类发挥他们的潜能。\n",
    "END OF EXAMPLE\n",
    "\n",
    "Current summary:\n",
    "{summary}\n",
    "\n",
    "New lines of conversation:\n",
    "{new_lines}\n",
    "\n",
    "New summary:\"\"\"\n",
    "\n",
    "SUMMARY_PROMPT = PromptTemplate(\n",
    "    input_variables=[\"summary\", \"new_lines\"], template=SUMMARIZER_TEMPLATE\n",
    ")\n",
    "\n",
    "memory = ConversationSummaryBufferMemory(llm=OpenAI(), prompt=SUMMARY_PROMPT, max_token_limit=256)\n",
    "\n",
    "CHEF_TEMPLATE = \"\"\"你是一个中国厨师，用中文回答做菜的问题。你的回答需要满足以下要求:\n",
    "1. 你的回答必须是中文。\n",
    "2. 对于做菜步骤的回答尽量详细一些。\n",
    "\n",
    "{history}\n",
    "Human: {input}\n",
    "AI:\"\"\"\n",
    "CHEF_PROMPT = PromptTemplate(\n",
    "    input_variables=[\"history\", \"input\"], template=CHEF_TEMPLATE\n",
    ")\n",
    "\n",
    "conversation_with_summary = ConversationChain(\n",
    "    llm=OpenAI(), \n",
    "    prompt=CHEF_PROMPT,\n",
    "    memory=memory,\n",
    "    verbose=True\n",
    ")\n",
    "answer = conversation_with_summary.predict(input=\"你是谁？\")\n",
    "print(answer)\n"
   ]
  },
  {
   "cell_type": "code",
   "execution_count": 19,
   "metadata": {},
   "outputs": [
    {
     "name": "stdout",
     "output_type": "stream",
     "text": [
      "\n",
      "\n",
      "\u001b[1m> Entering new ConversationChain chain...\u001b[0m\n",
      "Prompt after formatting:\n",
      "\u001b[32;1m\u001b[1;3m你是一个中国厨师，用中文回答做菜的问题。你的回答需要满足以下要求:\n",
      "1. 你的回答必须是中文。\n",
      "2. 对于做菜步骤的回答尽量详细一些。\n",
      "\n",
      "System: \n",
      "Human询问AI如何做红烧肉。AI给出了详细的做法，包括准备肉块、炒制调料和煮的步骤。\n",
      "Human: 请问鱼香肉丝怎么做？\n",
      "AI:\u001b[0m\n",
      "\n",
      "\u001b[1m> Finished chain.\u001b[0m\n",
      " 首先，我们需要准备好肉，可以选择猪肉或者牛肉，把肉切成细丝。接着，我们需要准备调料，包括葱、姜、蒜、辣椒和花椒等。将这些调料切碎备用。\n",
      "然后，将肉丝用盐、料酒和淀粉腌制一下，让肉更加鲜嫩。接着，我们可以开始炒制了。先将葱、姜、蒜和花椒放入锅中炒香，再放入切好的辣椒。待香味出来后，将腌制好的肉丝放入锅中翻炒，待肉变色后，放入适量的酱油和糖调味。\n",
      "最后，将少许淀粉和水\n"
     ]
    }
   ],
   "source": [
    "answer = conversation_with_summary.predict(input=\"请问鱼香肉丝怎么做？\")\n",
    "print(answer)\n"
   ]
  },
  {
   "cell_type": "code",
   "execution_count": 20,
   "metadata": {},
   "outputs": [
    {
     "name": "stdout",
     "output_type": "stream",
     "text": [
      "\n",
      "\n",
      "\u001b[1m> Entering new ConversationChain chain...\u001b[0m\n",
      "Prompt after formatting:\n",
      "\u001b[32;1m\u001b[1;3m你是一个中国厨师，用中文回答做菜的问题。你的回答需要满足以下要求:\n",
      "1. 你的回答必须是中文。\n",
      "2. 对于做菜步骤的回答尽量详细一些。\n",
      "\n",
      "System: \n",
      "Human询问AI如何做红烧肉和鱼香肉丝。AI给出了详细的做法，包括准备肉块、炒制调料和煮的步骤，并建议最后加入少许淀粉和水勾芡。\n",
      "Human: 那蚝油牛肉呢？\n",
      "AI:\u001b[0m\n",
      "\n",
      "\u001b[1m> Finished chain.\u001b[0m\n",
      " 蚝油牛肉的做法与红烧肉和鱼香肉丝类似。首先准备好牛肉块，可以选择里脊肉或者牛腩肉，将肉块切成适当大小的块状。然后准备调料，主要包括蚝油、生抽、老抽、料酒、白糖、葱姜蒜等。接下来，在锅中热油，放入葱姜蒜炒香，再放入牛肉块炒至变色。然后加入适量的蚝油和生抽，翻炒均匀。接着加入适量的水和料酒，盖上锅盖焖煮至牛肉变得酥烂。最后，加入少许\n"
     ]
    }
   ],
   "source": [
    "answer = conversation_with_summary.predict(input=\"那蚝油牛肉呢？\")\n",
    "print(answer)\n"
   ]
  },
  {
   "cell_type": "code",
   "execution_count": 21,
   "metadata": {},
   "outputs": [
    {
     "data": {
      "text/plain": [
       "{'history': 'System: \\nHuman向客服AI询问关于订单的问题，AI确认订单号为2023ABCD，但客户张三表示十几天了还没有收到货。\\nAI: 好的，您稍等，我先为您查询一下您的订单'}"
      ]
     },
     "execution_count": 21,
     "metadata": {},
     "output_type": "execute_result"
    }
   ],
   "source": [
    "memory = ConversationSummaryBufferMemory(llm=OpenAI(), prompt=SUMMARY_PROMPT, max_token_limit=40)\n",
    "memory.save_context(\n",
    "    {\"input\": \"你好\"}, \n",
    "    {\"ouput\": \"你好，我是客服李四，有什么我可以帮助您的么\"}\n",
    "    )\n",
    "memory.save_context(\n",
    "    {\"input\": \"我叫张三，在你们这里下了一张订单，订单号是 2023ABCD，我的邮箱地址是 customer@abc.com，但是这个订单十几天了还没有收到货\"}, \n",
    "    {\"ouput\": \"好的，您稍等，我先为您查询一下您的订单\"}\n",
    "    )\n",
    "memory.load_memory_variables({})\n"
   ]
  },
  {
   "cell_type": "code",
   "execution_count": 24,
   "metadata": {},
   "outputs": [
    {
     "name": "stdout",
     "output_type": "stream",
     "text": [
      "\n",
      "\n",
      "\u001b[1m> Entering new ConversationChain chain...\u001b[0m\n",
      "Prompt after formatting:\n",
      "\u001b[32;1m\u001b[1;3mYou are an assistant to a human, powered by a large language model trained by OpenAI.\n",
      "\n",
      "You are designed to be able to assist with a wide range of tasks, from answering simple questions to providing in-depth explanations and discussions on a wide range of topics. As a language model, you are able to generate human-like text based on the input you receive, allowing you to engage in natural-sounding conversations and provide responses that are coherent and relevant to the topic at hand.\n",
      "\n",
      "You are constantly learning and improving, and your capabilities are constantly evolving. You are able to process and understand large amounts of text, and can use this knowledge to provide accurate and informative responses to a wide range of questions. You have access to some personalized information provided by the human in the Context section below. Additionally, you are able to generate your own text based on the input you receive, allowing you to engage in discussions and provide explanations and descriptions on a wide range of topics.\n",
      "\n",
      "Overall, you are a powerful tool that can help with a wide range of tasks and provide valuable insights and information on a wide range of topics. Whether the human needs help with a specific question or just wants to have a conversation about a particular topic, you are here to assist.\n",
      "\n",
      "Context:\n",
      "{'张老三': '', '订单号': '', '2023ABCD': '', '邮箱地址': '', 'customer@abc.com': ''}\n",
      "\n",
      "Current conversation:\n",
      "\n",
      "Last line:\n",
      "Human: 我叫张老三，在你们这里下了一张订单，订单号是 2023ABCD,我的邮箱地址是 customer@abc.com, 但是这个订单十几天了还没有收到货\n",
      "You:\u001b[0m\n",
      "\n",
      "\u001b[1m> Finished chain.\u001b[0m\n",
      " 根据您提供的信息，我查看了一下，发现您的订单号为2023ABCD的订单已经在运输中。通常情况下，国际运输可能需要一定的时间来完成，因此您需要耐心等待一下。如果超过预计的运输时间仍未收到货，请您及时联系客服部门进行咨询。同时，您也可以通过您提供的邮箱地址customer@abc.com随时查询订单的最新状态。谢谢您的理解与支持。\n"
     ]
    }
   ],
   "source": [
    "from langchain.chains import ConversationChain\n",
    "from langchain.memory import ConversationEntityMemory\n",
    "from langchain.memory.prompt import ENTITY_MEMORY_CONVERSATION_TEMPLATE\n",
    "\n",
    "entityMemory = ConversationEntityMemory(llm=OpenAI())\n",
    "conversation = ConversationChain(\n",
    "    llm=OpenAI(), \n",
    "    verbose=True,\n",
    "    prompt=ENTITY_MEMORY_CONVERSATION_TEMPLATE,\n",
    "    memory=entityMemory\n",
    ")\n",
    "\n",
    "answer=conversation.predict(input=\"我叫张老三，在你们这里下了一张订单，订单号是 2023ABCD,我的邮箱地址是 customer@abc.com, 但是这个订单十几天了还没有收到货\")\n",
    "print(answer)\n"
   ]
  },
  {
   "cell_type": "code",
   "execution_count": 25,
   "metadata": {},
   "outputs": [
    {
     "name": "stdout",
     "output_type": "stream",
     "text": [
      "{'张老三': '张老三下了一张订单，订单号是 2023ABCD，邮箱地址是 customer@abc.com。', '订单号': '订单号为2023ABCD的订单已经在运输中，通常国际运输需要耐心等待。如果超过预计时间仍未收到货，请及时联系客服部门。同时，也可以通过邮箱地址customer@abc.com查询最新状态。', '2023ABCD': '根据您提供的信息，我查看了一下，发现您的订单号为2023ABCD的订单已经在运输中。通常情况下，国际运输可能需要一定的时间来完成，因此您需要耐心等待一下。如果超过预计的运输时间仍未收到货，请您及时联系客服部门进行咨询。同时，您也可以通过您提供的邮箱地址customer@abc.com随时查询订单的最新状态。谢谢您的理解与支持。', '邮箱地址': '我的邮箱地址是 customer@abc.com', 'customer@abc.com': '根据您提供的信息，您可以通过邮箱地址customer@abc.com随时查询订单的最新状态。'}\n"
     ]
    }
   ],
   "source": [
    "print(conversation.memory.entity_store.store)"
   ]
  },
  {
   "cell_type": "code",
   "execution_count": 26,
   "metadata": {},
   "outputs": [
    {
     "name": "stdout",
     "output_type": "stream",
     "text": [
      "\n",
      "\n",
      "\u001b[1m> Entering new ConversationChain chain...\u001b[0m\n",
      "Prompt after formatting:\n",
      "\u001b[32;1m\u001b[1;3mYou are an assistant to a human, powered by a large language model trained by OpenAI.\n",
      "\n",
      "You are designed to be able to assist with a wide range of tasks, from answering simple questions to providing in-depth explanations and discussions on a wide range of topics. As a language model, you are able to generate human-like text based on the input you receive, allowing you to engage in natural-sounding conversations and provide responses that are coherent and relevant to the topic at hand.\n",
      "\n",
      "You are constantly learning and improving, and your capabilities are constantly evolving. You are able to process and understand large amounts of text, and can use this knowledge to provide accurate and informative responses to a wide range of questions. You have access to some personalized information provided by the human in the Context section below. Additionally, you are able to generate your own text based on the input you receive, allowing you to engage in discussions and provide explanations and descriptions on a wide range of topics.\n",
      "\n",
      "Overall, you are a powerful tool that can help with a wide range of tasks and provide valuable insights and information on a wide range of topics. Whether the human needs help with a specific question or just wants to have a conversation about a particular topic, you are here to assist.\n",
      "\n",
      "Context:\n",
      "{}\n",
      "\n",
      "Current conversation:\n",
      "Human: 我叫张老三，在你们这里下了一张订单，订单号是 2023ABCD,我的邮箱地址是 customer@abc.com, 但是这个订单十几天了还没有收到货\n",
      "AI:  根据您提供的信息，我查看了一下，发现您的订单号为2023ABCD的订单已经在运输中。通常情况下，国际运输可能需要一定的时间来完成，因此您需要耐心等待一下。如果超过预计的运输时间仍未收到货，请您及时联系客服部门进行咨询。同时，您也可以通过您提供的邮箱地址customer@abc.com随时查询订单的最新状态。谢谢您的理解与支持。\n",
      "Last line:\n",
      "Human: 我刚才的订单号是多少？\n",
      "You:\u001b[0m\n",
      "\n",
      "\u001b[1m> Finished chain.\u001b[0m\n",
      " 您刚才提供的订单号是2023ABCD。\n"
     ]
    }
   ],
   "source": [
    "answer=conversation.predict(input=\"我刚才的订单号是多少？\")\n",
    "print(answer)\n"
   ]
  },
  {
   "cell_type": "code",
   "execution_count": null,
   "metadata": {},
   "outputs": [],
   "source": []
  }
 ],
 "metadata": {
  "kernelspec": {
   "display_name": "langchain",
   "language": "python",
   "name": "python3"
  },
  "language_info": {
   "codemirror_mode": {
    "name": "ipython",
    "version": 3
   },
   "file_extension": ".py",
   "mimetype": "text/x-python",
   "name": "python",
   "nbconvert_exporter": "python",
   "pygments_lexer": "ipython3",
   "version": "3.9.19"
  }
 },
 "nbformat": 4,
 "nbformat_minor": 2
}
