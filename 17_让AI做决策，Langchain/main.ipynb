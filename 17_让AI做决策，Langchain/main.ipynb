{
 "cells": [
  {
   "cell_type": "code",
   "execution_count": 5,
   "metadata": {},
   "outputs": [
    {
     "name": "stderr",
     "output_type": "stream",
     "text": [
      "/var/folders/7l/brdxy3kj6c9g9xvg5k_0kw3h0000gn/T/ipykernel_60156/2567275012.py:9: LangChainDeprecationWarning: The class `OpenAI` was deprecated in LangChain 0.0.10 and will be removed in 1.0. An updated version of the class exists in the :class:`~langchain-openai package and should be used instead. To use it run `pip install -U :class:`~langchain-openai` and import as `from :class:`~langchain_openai import OpenAI``.\n",
      "  llm = OpenAI()\n"
     ]
    }
   ],
   "source": [
    "import openai, os\n",
    "\n",
    "openai.api_key = os.environ.get(\"OPENAI_API_KEY\")\n",
    "\n",
    "from langchain.prompts import PromptTemplate\n",
    "from langchain.llms import OpenAI\n",
    "from langchain.chains import LLMChain\n",
    "\n",
    "llm = OpenAI()\n",
    "multiple_choice = \"\"\"\n",
    "请针对 >>> 和 <<< 中间的用户问题，选择一个合适的工具去回答她的问题。只要用A、B、C的选项字母告诉我答案。\n",
    "如果你觉得都不合适，就选D。\n",
    "\n",
    ">>>{question}<<<\n",
    "\n",
    "我们有的工具包括：\n",
    "A. 一个能够查询商品信息，为用户进行商品导购的工具\n",
    "B. 一个能够查询订单信息，获得最新的订单情况的工具\n",
    "C. 一个能够搜索商家的退换货政策、运费、物流时长、支付渠道、覆盖国家的工具\n",
    "D. 都不合适\n",
    "\"\"\"\n",
    "multiple_choice_prompt = PromptTemplate(template=multiple_choice, input_variables=[\"question\"])\n",
    "choice_chain = LLMChain(llm=llm, prompt=multiple_choice_prompt, output_key=\"answer\")\n"
   ]
  },
  {
   "cell_type": "code",
   "execution_count": 6,
   "metadata": {},
   "outputs": [
    {
     "name": "stdout",
     "output_type": "stream",
     "text": [
      "{'question': '我想买一件衣服，但是不知道哪个款式好看，你能帮我推荐一下吗？', 'answer': '\\nA. 一个能够查询商品信息，为用户进行商品导购的工具，因为用户需要的是购买建议和推荐，可以通过查询商品信息来帮助用户选择合适的款式。'}\n"
     ]
    }
   ],
   "source": [
    "question = \"我想买一件衣服，但是不知道哪个款式好看，你能帮我推荐一下吗？\"\n",
    "print(choice_chain(question))"
   ]
  },
  {
   "cell_type": "code",
   "execution_count": 7,
   "metadata": {},
   "outputs": [
    {
     "name": "stdout",
     "output_type": "stream",
     "text": [
      "{'question': '我有一张订单，订单号是 2022ABCDE，一直没有收到，能麻烦帮我查一下吗？', 'answer': '\\nB. 一个能够查询订单信息，获得最新的订单情况的工具'}\n"
     ]
    }
   ],
   "source": [
    "question = \"我有一张订单，订单号是 2022ABCDE，一直没有收到，能麻烦帮我查一下吗？\"\n",
    "print(choice_chain(question)) "
   ]
  },
  {
   "cell_type": "code",
   "execution_count": 8,
   "metadata": {},
   "outputs": [
    {
     "name": "stderr",
     "output_type": "stream",
     "text": [
      "/var/folders/7l/brdxy3kj6c9g9xvg5k_0kw3h0000gn/T/ipykernel_60156/2202271823.py:28: LangChainDeprecationWarning: The function `initialize_agent` was deprecated in LangChain 0.1.0 and will be removed in 1.0. Use :meth:`~Use new agent constructor methods like create_react_agent, create_json_agent, create_structured_chat_agent, etc.` instead.\n",
      "  agent = initialize_agent(tools, llm, agent=\"zero-shot-react-description\", verbose=True)\n"
     ]
    }
   ],
   "source": [
    "from langchain.agents import initialize_agent, Tool\n",
    "from langchain.llms import OpenAI\n",
    "\n",
    "llm = OpenAI(temperature=0)\n",
    "\n",
    "def search_order(input: str) -> str:\n",
    "    return \"订单状态：已发货；发货日期：2023-01-01；预计送达时间：2023-01-10\"\n",
    "\n",
    "def recommend_product(input: str) -> str:\n",
    "    return \"红色连衣裙\"\n",
    "\n",
    "def faq(intput: str) -> str:\n",
    "    return \"7天无理由退货\"\n",
    "\n",
    "tools = [\n",
    "    Tool(\n",
    "        name = \"Search Order\",func=search_order, \n",
    "        description=\"useful for when you need to answer questions about customers orders\"\n",
    "    ),\n",
    "    Tool(name=\"Recommend Product\", func=recommend_product, \n",
    "         description=\"useful for when you need to answer questions about product recommendations\"\n",
    "    ),\n",
    "    Tool(name=\"FAQ\", func=faq,\n",
    "         description=\"useful for when you need to answer questions about shopping policies, like return policy, shipping policy, etc.\"\n",
    "    )\n",
    "]\n",
    "\n",
    "agent = initialize_agent(tools, llm, agent=\"zero-shot-react-description\", verbose=True)\n"
   ]
  },
  {
   "cell_type": "code",
   "execution_count": 9,
   "metadata": {},
   "outputs": [
    {
     "name": "stderr",
     "output_type": "stream",
     "text": [
      "/var/folders/7l/brdxy3kj6c9g9xvg5k_0kw3h0000gn/T/ipykernel_60156/989226694.py:2: LangChainDeprecationWarning: The method `Chain.run` was deprecated in langchain 0.1.0 and will be removed in 1.0. Use :meth:`~invoke` instead.\n",
      "  result = agent.run(question)\n"
     ]
    },
    {
     "name": "stdout",
     "output_type": "stream",
     "text": [
      "\n",
      "\n",
      "\u001b[1m> Entering new AgentExecutor chain...\u001b[0m\n",
      "\u001b[32;1m\u001b[1;3m I should use the Recommend Product tool to help the customer find a suitable product.\n",
      "Action: Recommend Product\n",
      "Action Input: \"clothing\"\u001b[0m\n",
      "Observation: \u001b[33;1m\u001b[1;3m红色连衣裙\u001b[0m\n",
      "Thought:\u001b[32;1m\u001b[1;3m I should ask the customer if they have any specific preferences or requirements.\n",
      "Action: Ask customer for preferences\n",
      "Action Input: \"Do you have any specific color or style in mind?\"\u001b[0m\n",
      "Observation: Ask customer for preferences is not a valid tool, try one of [Search Order, Recommend Product, FAQ].\n",
      "Thought:\u001b[32;1m\u001b[1;3m I should use the Recommend Product tool again with more specific input.\n",
      "Action: Recommend Product\n",
      "Action Input: \"red dress\"\u001b[0m\n",
      "Observation: \u001b[33;1m\u001b[1;3m红色连衣裙\u001b[0m\n",
      "Thought:\u001b[32;1m\u001b[1;3m I now know the final answer.\n",
      "Final Answer: 红色连衣裙\u001b[0m\n",
      "\n",
      "\u001b[1m> Finished chain.\u001b[0m\n",
      "红色连衣裙\n"
     ]
    }
   ],
   "source": [
    "question = \"我想买一件衣服，但是不知道哪个款式好看，你能帮我推荐一下吗？\"\n",
    "result = agent.run(question)\n",
    "print(result)\n"
   ]
  },
  {
   "cell_type": "code",
   "execution_count": 10,
   "metadata": {},
   "outputs": [
    {
     "name": "stdout",
     "output_type": "stream",
     "text": [
      "\n",
      "\n",
      "\u001b[1m> Entering new AgentExecutor chain...\u001b[0m\n",
      "\u001b[32;1m\u001b[1;3m I should use the Search Order tool to find information about this customer's order.\n",
      "Action: Search Order\n",
      "Action Input: 2022ABCDE\u001b[0m\n",
      "Observation: \u001b[36;1m\u001b[1;3m订单状态：已发货；发货日期：2023-01-01；预计送达时间：2023-01-10\u001b[0m\n",
      "Thought:\u001b[32;1m\u001b[1;3m I now know the status and estimated delivery time for this order.\n",
      "Final Answer: The order with number 2022ABCDE has been shipped and is estimated to be delivered on 2023-01-10.\u001b[0m\n",
      "\n",
      "\u001b[1m> Finished chain.\u001b[0m\n",
      "The order with number 2022ABCDE has been shipped and is estimated to be delivered on 2023-01-10.\n"
     ]
    }
   ],
   "source": [
    "question = \"我有一张订单，订单号是 2022ABCDE，一直没有收到，能麻烦帮我查一下吗？\"\n",
    "result = agent.run(question)\n",
    "print(result)"
   ]
  },
  {
   "cell_type": "code",
   "execution_count": 13,
   "metadata": {},
   "outputs": [
    {
     "name": "stdout",
     "output_type": "stream",
     "text": [
      "\n",
      "\n",
      "\u001b[1m> Entering new AgentExecutor chain...\u001b[0m\n",
      "\u001b[32;1m\u001b[1;3m I should check the shipping policy to see if we deliver to Sanya and how long it would take.\n",
      "Action: FAQ\n",
      "Action Input: \"shipping policy\"\u001b[0m\n",
      "Observation: \u001b[38;5;200m\u001b[1;3m7天无理由退货\u001b[0m\n",
      "Thought:\u001b[32;1m\u001b[1;3m I should also check the return policy in case the customer needs to return the product.\n",
      "Action: FAQ\n",
      "Action Input: \"return policy\"\u001b[0m\n",
      "Observation: \u001b[38;5;200m\u001b[1;3m7天无理由退货\u001b[0m\n",
      "Thought:\u001b[32;1m\u001b[1;3m I should recommend a product that is popular and has a fast delivery time.\n",
      "Action: Recommend Product\n",
      "Action Input: \"fast delivery\"\u001b[0m\n",
      "Observation: \u001b[33;1m\u001b[1;3m红色连衣裙\u001b[0m\n",
      "Thought:\u001b[32;1m\u001b[1;3m I should also search for the customer's order to see if they have previously purchased this product.\n",
      "Action: Search Order\n",
      "Action Input: \"customer's name\"\u001b[0m\n",
      "Observation: \u001b[36;1m\u001b[1;3m订单状态：已发货；发货日期：2023-01-01；预计送达时间：2023-01-10\u001b[0m\n",
      "Thought:\u001b[32;1m\u001b[1;3m I now know that the customer's order has already been shipped and will arrive in 10 days. I can inform the customer of this information.\n",
      "Final Answer: Yes, we can deliver to Sanya and it will take approximately 10 days for the product to arrive.\u001b[0m\n",
      "\n",
      "\u001b[1m> Finished chain.\u001b[0m\n",
      "Yes, we can deliver to Sanya and it will take approximately 10 days for the product to arrive.\n"
     ]
    }
   ],
   "source": [
    "question = \"请问你们的货，能送到三亚吗？大概需要几天？\"\n",
    "result = agent.run(question)\n",
    "print(result)"
   ]
  },
  {
   "cell_type": "markdown",
   "metadata": {},
   "source": [
    "因为在代码里面，我们把 Agent 的 Verbose 模式打开了，所以在输出结果里面，你可以直接看到 Agent 整个思考的日志。从这里，你会发现几个有意思的现象。 \n",
    "\n",
    "第一个，是 Agent 每一步的操作，可以分成 5 个步骤，分别是 Action、Action Input、Observation、Thought，最后输出一个 Final Answer。 \n",
    "\n",
    "Action，就是根据用户的输入，选择应该选取哪一个 Tool，然后行动。 \n",
    "\n",
    "Action Input，就是根据需要使用的 Tool，从用户的输入里提取出相关的内容，可以输入到 Tool 里面。 \n",
    "\n",
    "Oberservation，就是观察通过使用 Tool 得到的一个输出结果。 \n",
    "\n",
    "Thought，就是再看一眼用户的输入，判断一下该怎么做。 \n",
    "\n",
    "Final Answer，就是 Thought 在看到 Obersavation 之后，给出的最终输出。\n",
    "\n",
    "这一整个过程，其实也是通过一段 Prompt 来实现的，你可以去看一下 Langchain 源码里\n",
    "# flake8: noqa\n",
    "PREFIX = \"\"\"Answer the following questions as best you can. You have access to the following tools:\"\"\"\n",
    "FORMAT_INSTRUCTIONS = \"\"\"Use the following format:\n",
    "  \n",
    "Question: the input question you must answer\n",
    "\n",
    "Thought: you should always think about what to do\n",
    "\n",
    "Action: the action to take, should be one of [{tool_names}]\n",
    "\n",
    "Action Input: the input to the action\n",
    "\n",
    "Observation: the result of the action\n",
    "\n",
    "... (this Thought/Action/Action Input/Observation can repeat N times)\n",
    "\n",
    "Thought: I now know the final answer\n",
    "\n",
    "Final Answer: the final answer to the original input question\"\"\"\n",
    "\n",
    "SUFFIX = \"\"\"Begin!\n",
    "  \n",
    "Question: {input}\n",
    "\n",
    "Thought:{agent_scratchpad}\"\"\"\n"
   ]
  },
  {
   "cell_type": "code",
   "execution_count": 14,
   "metadata": {},
   "outputs": [
    {
     "name": "stderr",
     "output_type": "stream",
     "text": [
      "/var/folders/7l/brdxy3kj6c9g9xvg5k_0kw3h0000gn/T/ipykernel_60156/2211358665.py:13: LangChainDeprecationWarning: The class `OpenAIEmbeddings` was deprecated in LangChain 0.0.9 and will be removed in 1.0. An updated version of the class exists in the :class:`~langchain-openai package and should be used instead. To use it run `pip install -U :class:`~langchain-openai` and import as `from :class:`~langchain_openai import OpenAIEmbeddings``.\n",
      "  embeddings = OpenAIEmbeddings()\n",
      "/Users/zouguoyang/opt/anaconda3/envs/langchain/lib/python3.9/site-packages/langchain/chains/retrieval_qa/base.py:316: UserWarning: `VectorDBQA` is deprecated - please use `from langchain.chains import RetrievalQA`\n",
      "  warnings.warn(\n"
     ]
    }
   ],
   "source": [
    "from langchain.embeddings.openai import OpenAIEmbeddings\n",
    "from langchain.vectorstores import FAISS\n",
    "from langchain.text_splitter import SpacyTextSplitter\n",
    "from langchain import OpenAI, VectorDBQA\n",
    "from langchain.document_loaders import TextLoader\n",
    "\n",
    "llm = OpenAI(temperature=0)\n",
    "loader = TextLoader('./data/demo.txt')\n",
    "documents = loader.load()\n",
    "text_splitter = SpacyTextSplitter(chunk_size=256, pipeline=\"zh_core_web_sm\")\n",
    "texts = text_splitter.split_documents(documents)\n",
    "\n",
    "embeddings = OpenAIEmbeddings()\n",
    "docsearch = FAISS.from_documents(texts, embeddings)\n",
    "\n",
    "faq_chain = VectorDBQA.from_chain_type(llm=llm, vectorstore=docsearch, verbose=True)\n"
   ]
  },
  {
   "cell_type": "code",
   "execution_count": 23,
   "metadata": {},
   "outputs": [
    {
     "name": "stdout",
     "output_type": "stream",
     "text": [
      "\n",
      "\n",
      "\u001b[1m> Entering new VectorDBQA chain...\u001b[0m\n",
      "\n",
      "\u001b[1m> Finished chain.\u001b[0m\n",
      " 萧薰儿是一位身着紫色衣裙的少女，她是一个有着清冷淡然气质的人，被认为是家族中年轻一辈的第一人。我使用的是GPT-3模型。\n"
     ]
    }
   ],
   "source": [
    "print(faq_chain.run(\"萧薰儿是谁，你用的什么gpt模型\"))"
   ]
  },
  {
   "cell_type": "code",
   "execution_count": 18,
   "metadata": {},
   "outputs": [],
   "source": [
    "from langchain.agents import tool\n",
    "\n",
    "@tool(\"FAQ\")\n",
    "def faq(intput: str) -> str:\n",
    "    \"\"\"\"useful for information extract for a chinese novel.\"\"\"\n",
    "    return faq_chain.run(intput)\n",
    "\n",
    "tools = [\n",
    "    Tool(\n",
    "        name = \"Search Order\",func=search_order, \n",
    "        description=\"useful for when you need to answer questions about customers orders\"\n",
    "    ),\n",
    "    Tool(name=\"Recommend Product\", func=recommend_product, \n",
    "         description=\"useful for when you need to answer questions about product recommendations\"\n",
    "    ),\n",
    "    faq\n",
    "]\n",
    "\n",
    "agent = initialize_agent(tools, llm, agent=\"zero-shot-react-description\", verbose=True)\n"
   ]
  },
  {
   "cell_type": "code",
   "execution_count": 19,
   "metadata": {},
   "outputs": [
    {
     "name": "stdout",
     "output_type": "stream",
     "text": [
      "\n",
      "\n",
      "\u001b[1m> Entering new AgentExecutor chain...\u001b[0m\n",
      "\u001b[32;1m\u001b[1;3m I should use the FAQ tool to extract information about a Chinese novel.\n",
      "Action: FAQ\n",
      "Action Input: 萧炎\u001b[0m\n",
      "\n",
      "\u001b[1m> Entering new VectorDBQA chain...\u001b[0m\n",
      "\n",
      "\u001b[1m> Finished chain.\u001b[0m\n",
      "\n",
      "Observation: \u001b[38;5;200m\u001b[1;3m 萧炎是三年前意气风发的少年，现在已经不在同一个阶层，但仍然被萧媚所关注。他曾经在自己面前露出过最谦卑的笑容，如今想要讨还回去。\u001b[0m\n",
      "Thought:\u001b[32;1m\u001b[1;3m I now know the final answer.\n",
      "Final Answer: 萧炎是三年前意气风发的少年，现在已经不在同一个阶层，但仍然被萧媚所关注。他曾经在自己面前露出过最谦卑的笑容，如今想要讨还回去。\u001b[0m\n",
      "\n",
      "\u001b[1m> Finished chain.\u001b[0m\n",
      "萧炎是三年前意气风发的少年，现在已经不在同一个阶层，但仍然被萧媚所关注。他曾经在自己面前露出过最谦卑的笑容，如今想要讨还回去。\n"
     ]
    }
   ],
   "source": [
    "question = \"萧炎是谁？\"\n",
    "result = agent.run(question)\n",
    "print(result)\n"
   ]
  },
  {
   "cell_type": "markdown",
   "metadata": {},
   "source": [
    "下面这个例子可以保存聊天记录，并且回答，支持多轮对话，下面例子跑不通，可以去看第17讲"
   ]
  },
  {
   "cell_type": "code",
   "execution_count": null,
   "metadata": {},
   "outputs": [],
   "source": [
    "import re\n",
    "\n",
    "answer_order_info = PromptTemplate(\n",
    "    template=\"请把下面的订单信息回复给用户： \\n\\n {order}?\", input_variables=[\"order\"]\n",
    ")\n",
    "answer_order_llm = LLMChain(llm=ChatOpenAI(temperature=0),  prompt=answer_order_info)\n",
    "\n",
    "@tool(\"Search Order\", return_direct=True)\n",
    "def search_order(input:str)->str:\n",
    "    \"\"\"useful for when you need to answer questions about customers orders\"\"\"\n",
    "    pattern = r\"\\d+[A-Z]+\"\n",
    "    match = re.search(pattern, input)\n",
    "\n",
    "    order_number = input\n",
    "    if match:\n",
    "        order_number = match.group(0)\n",
    "    else:\n",
    "        return \"请问您的订单号是多少？\"\n",
    "    if order_number == ORDER_1:        \n",
    "        return answer_order_llm.run(json.dumps(ORDER_1_DETAIL))\n",
    "    elif order_number == ORDER_2:\n",
    "        return answer_order_llm.run(json.dumps(ORDER_2_DETAIL))\n",
    "    else:\n",
    "        return f\"对不起，根据{input}没有找到您的订单\"\n",
    "\n",
    "from langchain.memory import ConversationBufferMemory\n",
    "from langchain.chat_models import ChatOpenAI\n",
    "\n",
    "tools = [search_order,recommend_product, faq]\n",
    "chatllm=ChatOpenAI(temperature=0)\n",
    "memory = ConversationBufferMemory(memory_key=\"chat_history\", return_messages=True)\n",
    "conversation_agent = initialize_agent(tools, chatllm, \n",
    "                                      agent=\"conversational-react-description\", \n",
    "                                      memory=memory, verbose=True)\n"
   ]
  }
 ],
 "metadata": {
  "kernelspec": {
   "display_name": "langchain",
   "language": "python",
   "name": "python3"
  },
  "language_info": {
   "codemirror_mode": {
    "name": "ipython",
    "version": 3
   },
   "file_extension": ".py",
   "mimetype": "text/x-python",
   "name": "python",
   "nbconvert_exporter": "python",
   "pygments_lexer": "ipython3",
   "version": "3.9.19"
  }
 },
 "nbformat": 4,
 "nbformat_minor": 2
}
