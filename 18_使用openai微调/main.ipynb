{
 "cells": [
  {
   "cell_type": "code",
   "execution_count": 7,
   "metadata": {},
   "outputs": [
    {
     "name": "stdout",
     "output_type": "stream",
     "text": [
      "Completion(id='cmpl-AHle3ajuskJiEvNkcV56VBBSoFRww', choices=[CompletionChoice(finish_reason='stop', index=0, logprobs=None, text='\\n\\n唐朝时期，有一位名叫墨素的英雄人物，他生性勇敢，心怀正义，是当时的一位有名的武将。在一次抗击外敌的战斗中，墨素不幸被敌人的毒箭射中，身负重伤。就在他即将倒下的时候，他突然发现自己穿越到了现代。\\n\\n墨素惊讶地发现，他拥有了隐形的超能力。他可以随意隐身，让人看不见自己。这让他感到非常兴奋，因为这样的能力可以让他更加轻松地战斗。于是，墨素决定利用这个能力，帮助现代的人们。\\n\\n就在他四处寻找可以帮助的地方时，他遇到了奥特曼。奥特曼是一个来自宇宙的超级英雄，他也正在与一群怪兽作战。墨素决定加入奥特曼的战斗，帮助他一起打败怪兽。\\n\\n墨素利用隐形的能力，轻松地躲避怪兽的攻击，并且在关键时刻，出手帮助奥特曼攻击怪兽。随着墨素的加入，奥特曼的战斗变得更加轻松，最终成功地击败了怪兽。\\n\\n奥特曼非常感谢墨素的帮助，他们成为了好朋友。奥特曼也向墨素介绍了现代的世界，让他了解到现代人们所面临的挑战和困难。墨素决定留在现代，继续帮助人们，并且学习现代的知识和技能。\\n\\n墨素的隐形能力成为了他帮助人们的最大武器。他可以在不被人们发现的情况下，解决一些犯罪问题，保护人们的安全。他也经常出现在一些危险的场合，帮助人们解决危机。\\n\\n随着时间的推移，墨素成为了现代人们心中的英雄。他的事迹被传颂，人们称他为“隐形英雄”。墨素也感激现代社会给予他的机会，他决心要继续用自己的能力，帮助更多的人们。\\n\\n墨素的故事，让人们明白，无论身处何时何地，只要心怀正义和勇气，就可以成为一位英雄。他的勇敢和善良，也将永远被人们铭记。')], created=1728798087, model='gpt-3.5-turbo-instruct', object='text_completion', system_fingerprint=None, usage=CompletionUsage(completion_tokens=806, prompt_tokens=107, total_tokens=913, completion_tokens_details=None, prompt_tokens_details=None))\n",
      "Completion(id='cmpl-AHleB3aYVjyWKbLKcCoK7VaVa4d87', choices=[CompletionChoice(finish_reason='stop', index=0, logprobs=None, text='\\n\\n唐朝时期，有一位名叫墨素的英雄人物，他拥有着非凡的武艺和智慧，被誉为当时最勇敢的战士。他在战场上屡立战功，被皇帝赐予了“百战不殆”的称号。\\n\\n然而，命运却偏偏捉弄他，一次意外的穿越，让他来到了现代。当他醒来时，发现自己身处一个陌生的城市，周围都是高楼大厦，汽车和电脑。他十分困惑，但很快就发现自己拥有了一种神奇的超能力——读心术。\\n\\n墨素很快适应了现代的生活，但他并没有忘记自己的使命。就在他探索这个新世界的同时，也在寻找着自己的使命。有一天，他听说怪兽来袭，摧毁了城市的一部分，人们都十分恐慌。\\n\\n墨素决定挺身而出，帮助人们抵御怪兽的攻击。他利用读心术，轻松地发现了怪兽的弱点，并与之展开了激烈的战斗。怪兽的力量十分强大，但墨素的武艺更加精湛，最终他成功地将怪兽打败。\\n\\n人们对墨素的敬佩之情油然而生，他成为了城市里的英雄。而此时，奥特曼也出现了，他们一起合作，保护城市的安全。墨素利用自己的读心术，帮助奥特曼发现了更多怪兽的弱点，让他们可以轻松地击败怪兽。\\n\\n随着时间的推移，墨素和奥特曼成为了无敌的拍档，每次怪兽来袭，他们总能够合力将其击败。人们对他们的敬佩之情越来越深，他们的名字也被传颂开来。\\n\\n墨素虽然穿越到了现代，但他仍然保持着唐朝时期的侠义精神，用自己的力量保护人民，成为了一位真正的英雄。他的故事也被人们永远地记住，流传了下来。从此，墨素和奥特曼一起守护着这座城市，让人们生活在一个和平安宁的环境中。')], created=1728798095, model='gpt-3.5-turbo-instruct', object='text_completion', system_fingerprint=None, usage=CompletionUsage(completion_tokens=765, prompt_tokens=108, total_tokens=873, completion_tokens_details=None, prompt_tokens_details=None))\n",
      "Completion(id='cmpl-AHleJCrjAqAjUL2KJVOnBlFcndDyO', choices=[CompletionChoice(finish_reason='stop', index=0, logprobs=None, text='\\n\\n唐朝时期，有一位名叫墨素的英雄人物，他是一名出色的武将，勇猛无畏，被誉为“唐朝第一勇士”。他在战场上驰骋，屡建奇功，受到皇帝的赏识和重用。\\n\\n然而，命运却让他意外穿越到了现代，而且还拥有了瞬间移动的超能力。起初，墨素对这个陌生的世界感到十分困惑，但很快他就适应了现代的生活，并利用自己的超能力帮助人们解决各种问题。\\n\\n一天，奥特曼发现了一群来自外太空的怪兽正向地球进发，准备摧毁人类文明。奥特曼知道自己无法独自对抗这些强大的怪兽，于是他想到了墨素。经过一番搜索，奥特曼终于找到了墨素，请求他的帮助。\\n\\n墨素毫不犹豫地答应了奥特曼的请求，立刻瞬间移动到了怪兽的面前。他迅速发挥出自己的超能力，轻松地躲避怪兽的攻击，并用他的快速移动能力给怪兽造成了重创。奥特曼也借此机会，发挥出自己的强大力量，与怪兽展开了激烈的战斗。\\n\\n在墨素和奥特曼的联手下，怪兽们很快就被打败了，人类的危机也得到了解决。人们对墨素的英雄行为感激不已，纷纷向他表示敬意和感谢。墨素也因此成为了人们心中的英雄，受到了广泛的赞誉。\\n\\n从此以后，墨素和奥特曼成为了无话不谈的好朋友，经常一起保卫地球免受各种威胁。而墨素也发现，他在现代的生活中同样可以发挥出自己的英雄本色，保护人民的安全和幸福。\\n\\n墨素的传奇故事也被流传至今，成为人们口中的传说。他用自己的勇气和力量，带给人们希望和勇气，成为了一代又一代人心中的英雄。')], created=1728798103, model='gpt-3.5-turbo-instruct', object='text_completion', system_fingerprint=None, usage=CompletionUsage(completion_tokens=742, prompt_tokens=110, total_tokens=852, completion_tokens_details=None, prompt_tokens_details=None))\n",
      "Completion(id='cmpl-AHlePyn9p7qNKnK0g3nrULM53FKCX', choices=[CompletionChoice(finish_reason='stop', index=0, logprobs=None, text='\\n\\n墨素是一位生活在宋朝时期的英雄人物，他出生在一个贫穷的家庭，但却拥有着非凡的武艺。从小，他就表现出了超乎常人的敏捷和力量，被村里的人们称为“神童”。\\n\\n随着年龄的增长，墨素越来越受到村民们的尊敬和爱戴。他不仅勇敢无畏，还具有仁义之心，经常帮助村民们解决各种难题。他的名声渐渐传遍了周围的村庄，成为了一位备受尊敬的英雄。\\n\\n然而，命运却对他开了一个玩笑。一次意外的穿越，让墨素来到了现代社会。在这个陌生的世界，他发现自己拥有了隐形的超能力。他可以随意隐身，无声无息地出现在任何地方。\\n\\n墨素对这个新奇的能力感到兴奋，但很快就发现了这个世界也存在着危险。一群怪兽从外太空降临到地球上，他们的目的是摧毁地球，统治人类。\\n\\n墨素决定利用自己的超能力，帮助人类抵抗怪兽的入侵。他化身为一位隐形的保护者，和奥特曼一起对抗怪兽。在战斗中，墨素展现出了惊人的战斗技巧和勇气，和奥特曼一起击败了一个又一个强大的怪兽。\\n\\n随着战斗的进行，墨素和奥特曼之间也建立起了深厚的友谊。他们一起战斗，一起分享生活中的喜怒哀乐。\\n\\n最终，在墨素和奥特曼的不懈努力下，所有的怪兽都被成功击败，地球恢复了和平。人们都对墨素和奥特曼充满了感激和敬佩，他们成为了英雄的象征。\\n\\n墨素也在这个过程中学会了如何适应现代社会，结识了许多朋友，过上了幸福的生活。他用自己的力量保护了地球，也获得了新的生活。\\n\\n从此，墨素成为了一个传奇的存在，他的故事将永远被人们传颂。他用自己的勇气和智慧，成为了一位真正的英雄。')], created=1728798109, model='gpt-3.5-turbo-instruct', object='text_completion', system_fingerprint=None, usage=CompletionUsage(completion_tokens=779, prompt_tokens=106, total_tokens=885, completion_tokens_details=None, prompt_tokens_details=None))\n",
      "Completion(id='cmpl-AHleWAXKMolth8YXehygJ6yT7fxFP', choices=[CompletionChoice(finish_reason='stop', index=0, logprobs=None, text='\\n\\n在宋朝时期，有一位名叫墨素的英雄人物，他拥有着非凡的武艺和勇气，被誉为是一代武林宗师。他经常带领着一群义士，保护百姓，打击不义之徒，受到了众人的敬仰和爱戴。\\n\\n然而，一次意外的穿越，让墨素来到了现代。在这个陌生的世界里，他发现自己拥有了读心术这样的超能力。他可以轻易地读懂他人的心思，甚至可以预测未来的发展。\\n\\n一天，墨素在街上遇见了一只巨大的怪兽，它正在破坏城市，伤害无辜的人民。墨素毫不犹豫地冲了上去，与怪兽展开了激烈的战斗。他利用自己的武艺和超能力，轻松地躲避怪兽的攻击，并且准确地预测出它的下一步动作。\\n\\n就在墨素似乎要取得胜利的时候，怪兽突然变得更加凶狠，发出了一道强大的能量波。墨素感到自己的力量已经不够，他知道自己需要更强大的力量来击败怪兽。\\n\\n就在这时，一位身穿银色盔甲的奥特曼出现了。他看到墨素与怪兽的战斗，知道这个陌生的武林宗师需要帮助。奥特曼与墨素一起合力，最终击败了怪兽。\\n\\n墨素感激地看着奥特曼，他知道自己无法独自战胜怪兽，感谢奥特曼的援手。奥特曼也对墨素的武艺和超能力赞叹不已，两人成为了好朋友。\\n\\n从此以后，墨素和奥特曼一起保护这个世界，打击邪恶的力量。他们的战斗也成为了传奇，人们都称赞他们是最强的英雄。墨素也终于找到了自己在现代的归属，他的传奇故事也将会被后人永远铭记。')], created=1728798116, model='gpt-3.5-turbo-instruct', object='text_completion', system_fingerprint=None, usage=CompletionUsage(completion_tokens=716, prompt_tokens=107, total_tokens=823, completion_tokens_details=None, prompt_tokens_details=None))\n",
      "Completion(id='cmpl-AHlec2Zci1sHssFMtproiO9WUsbyp', choices=[CompletionChoice(finish_reason='stop', index=0, logprobs=None, text='\\n\\n墨素是一位生活在宋朝时期的英雄人物，他拥有着非凡的武艺和勇气，被人们称为“宋朝第一剑客”。他的剑法犀利无比，能够轻松斩断铁铸的铠甲，让敌人闻风丧胆。\\n\\n某天，墨素穿越到了现代，来到了一个陌生的城市。他发现自己拥有了瞬间移动的超能力，可以在瞬间移动到任意地方。这让他感到非常兴奋，同时也意识到自己被赋予了更大的使命。\\n\\n就在此时，一群怪兽突然出现在城市中心，它们破坏一切遇到的东西，让城市陷入了恐慌。墨素决定挺身而出，帮助城市的居民们。\\n\\n他利用瞬间移动的能力，轻松地躲避怪兽的攻击，并用他的剑法将它们一一斩杀。城市的居民们惊叹不已，纷纷称赞墨素是一位真正的英雄。\\n\\n就在墨素将最后一个怪兽斩杀之时，一位奥特曼出现在了他的面前。奥特曼向墨素道谢，并邀请他加入奥特曼联盟，一起保卫地球免受怪兽的威胁。\\n\\n墨素欣然接受了邀请，成为了奥特曼联盟的一员。他利用自己的瞬间移动能力和剑法，与奥特曼一起保卫地球，消灭了无数的怪兽。\\n\\n随着时间的推移，墨素逐渐适应了现代社会，并结识了许多朋友。他们一起组成了一个超级英雄团队，为保护世界和平而战斗。\\n\\n墨素的传奇故事在现代城市中广为流传，人们称赞他是一位真正的英雄，也将他的故事传承下去。从此，墨素和他的朋友们一起守护着这个美丽的世界，让和平与正义永远存在。')], created=1728798122, model='gpt-3.5-turbo-instruct', object='text_completion', system_fingerprint=None, usage=CompletionUsage(completion_tokens=685, prompt_tokens=109, total_tokens=794, completion_tokens_details=None, prompt_tokens_details=None))\n",
      "Completion(id='cmpl-AHlejwLhLhRjyho7CPXYFqblC8nrS', choices=[CompletionChoice(finish_reason='stop', index=0, logprobs=None, text='\\n\\n在元朝时期，有一位名叫墨素的英雄人物，他是一位出色的武将，为国家抵御外敌，保卫家园，立下了赫赫战功。然而，命运却对他开了一个玩笑，他不幸穿越到了现代。\\n\\n墨素发现自己拥有了隐形的超能力，这让他感到非常兴奋。他决定利用这个能力，为现代社会做出贡献。一天，他在电视上看到了奥特曼与怪兽的战斗，他决定前去帮助奥特曼。\\n\\n当墨素出现在怪兽面前时，怪兽感到非常惊讶，因为他们无法看到墨素的身影。墨素利用隐形的能力，轻松地躲避怪兽的攻击，并给予怪兽致命的一击。奥特曼也被墨素的勇气和实力所感动，两人一起合作，最终将怪兽打败。\\n\\n随后，奥特曼带着墨素来到了他的基地，向他介绍了奥特曼的使命和对抗怪兽的重要性。墨素决定留下来，成为奥特曼的一员，帮助他们保卫地球。\\n\\n从此，墨素与奥特曼一起战斗，保护人类免受怪兽的侵害。他的隐形能力让他成为了奥特曼团队中最为重要的一员，每次战斗都能起到关键的作用。\\n\\n随着时间的推移，墨素逐渐融入了现代社会，他学习了现代科技，帮助奥特曼改良装备，使他们更加强大。他也结识了许多新朋友，和他们一起享受着现代生活。\\n\\n墨素的出现，让奥特曼团队变得更加强大，他们的战斗也更加轻松。而墨素也找到了新的归属，他在现代社会中找到了自己的价值和存在感。\\n\\n从此，墨素与奥特曼一起守护着和平与正义，成为了现代社会中备受尊敬的英雄。他的传奇故事也被后人传颂，成为了一段永恒的传说。')], created=1728798129, model='gpt-3.5-turbo-instruct', object='text_completion', system_fingerprint=None, usage=CompletionUsage(completion_tokens=732, prompt_tokens=106, total_tokens=838, completion_tokens_details=None, prompt_tokens_details=None))\n",
      "Completion(id='cmpl-AHleqUrlg4avVUd70kfmEeXUU6sFJ', choices=[CompletionChoice(finish_reason='stop', index=0, logprobs=None, text='\\n\\n墨素是元朝时期的一位英雄人物，他生性勇敢，武艺高强，被人们称为“铁血战神”。他曾经在战场上立下了无数功勋，为国家保卫了边疆安宁。然而，命运却给了他一个意想不到的转折。\\n\\n一天，墨素突然穿越到了现代，发现自己拥有了读心术这样的超能力。他惊讶不已，但很快就意识到这是上天赐予他的新使命。他决定利用这个能力，继续为正义而战。\\n\\n就在此时，一场怪物袭击了城市，人们惊慌失措，无助地逃窜。墨素决定挺身而出，帮助奥特曼一起对抗怪物。他利用读心术，发现怪物的弱点，帮助奥特曼轻松地击败了它。\\n\\n随后，墨素和奥特曼成为了好朋友，一起保卫城市的安全。他们经常一起出击，对抗各种恶势力。墨素的读心术让他成为了奥特曼的得力助手，每次战斗都能事半功倍，让怪物们束手无策。\\n\\n然而，越来越多的怪物开始出现，它们的力量也越来越强大。奥特曼和墨素面临着前所未有的挑战。为了保卫城市的和平，他们不断地磨练自己的技能，最终在一次激烈的战斗中，成功地击败了最强大的怪物。\\n\\n从此，城市再也没有受到怪物的威胁，人们重新恢复了平静的生活。墨素也成为了城市里备受尊敬的英雄，人们为他竖起了雕像，纪念他的勇敢和牺牲精神。\\n\\n墨素和奥特曼的友谊也变得更加深厚，他们一起回忆起过去的战斗，分享彼此的故事。墨素感慨道：“虽然时代改变了，但正义和勇气永远不会过时。我很荣幸能够与你并肩作战，保卫这个美丽的城市。”\\n\\n从此，墨素和奥特曼一起守护着这个城市，保护人们的安全。他们的英勇事迹也被传颂了许多年，成为了人们心中永远的传奇。')], created=1728798136, model='gpt-3.5-turbo-instruct', object='text_completion', system_fingerprint=None, usage=CompletionUsage(completion_tokens=799, prompt_tokens=107, total_tokens=906, completion_tokens_details=None, prompt_tokens_details=None))\n",
      "Completion(id='cmpl-AHlexu3cS7rlyk8NmHb3wMm0svLz9', choices=[CompletionChoice(finish_reason='stop', index=0, logprobs=None, text='\\n\\n元朝时期，有一位名叫墨素的英雄人物，他拥有一身过人的武艺，被誉为是当时最强大的武林高手。他经常出没于江湖，为民除害，保护百姓的安全。然而，他的一次意外穿越到了现代，这里的世界对他来说是完全陌生的。\\n\\n墨素发现自己拥有了瞬间移动的超能力，只要集中精神，他就能够瞬间移动到任何想去的地方。他对这个新的能力感到十分兴奋，他决定利用这个能力来帮助更多的人。\\n\\n就在这时，一场怪兽袭击了城市，人们惊恐地四处逃窜。墨素看到这一幕，立刻决定出手相助。他利用瞬间移动的能力，轻松地躲避怪兽的攻击，然后用自己的武艺和怪兽展开了一场激烈的战斗。\\n\\n虽然怪兽强大，但是墨素的武艺更加厉害。他灵活地躲避着怪兽的攻击，然后用快速的拳脚和利剑，将怪兽打得七零八落。最后，墨素用一记致命的一击，将怪兽彻底击败。\\n\\n人们看到这一幕，纷纷欢呼，称墨素为当代的英雄。而此时，一位身穿红色铠甲的奥特曼出现在墨素面前，他向墨素表示感谢，并邀请他加入奥特曼的战斗团队。\\n\\n墨素欣然接受了这个邀请，他觉得自己有了这样的超能力，就应该用来帮助更多的人，保护世界的和平。从此，墨素和奥特曼一起，成为了最强大的战斗伙伴，保卫着世界的安宁。\\n\\n墨素的传奇故事也被人们广为传颂，他成为了一个传奇的英雄，他的名字被铭记在人们的心中，永远不会被遗忘。从此，墨素在现代世界，过着充满挑战和刺激的生活，他的英勇事迹也被后人永远传颂。')], created=1728798143, model='gpt-3.5-turbo-instruct', object='text_completion', system_fingerprint=None, usage=CompletionUsage(completion_tokens=749, prompt_tokens=109, total_tokens=858, completion_tokens_details=None, prompt_tokens_details=None))\n"
     ]
    }
   ],
   "source": [
    "import os,openai,backoff\n",
    "import pandas as pd\n",
    "\n",
    "dynasties= ['唐', '宋', '元']\n",
    "super_powers = ['隐形', '读心术', '瞬间移动']\n",
    "story_types = ['轻松']\n",
    "\n",
    "openai.api_key = os.environ['OPENAI_API_KEY']\n",
    "\n",
    "# new\n",
    "from openai import OpenAI\n",
    "\n",
    "client = OpenAI(\n",
    "  api_key=os.environ['OPENAI_API_KEY'],  # this is also the default, it can be omitted\n",
    ")\n",
    "\n",
    "# @backoff.on_exception(backoff.expo, openai.error.RateLimitError)\n",
    "def gpt35(prompt, max_tokens=2048, temperature=0.5, top_p=1, frequency_penalty=0, presence_penalty=0):\n",
    "    response = client.completions.create(\n",
    "        model=\"gpt-3.5-turbo-instruct\",\n",
    "        prompt=prompt,\n",
    "        max_tokens=max_tokens,\n",
    "        temperature=temperature,\n",
    "        top_p=top_p,\n",
    "        frequency_penalty=frequency_penalty,\n",
    "        presence_penalty=presence_penalty)\n",
    "    print(response)\n",
    "    return response.choices[0].text\n",
    "\n",
    "def prepare_stories(dynasties, super_powers, story_types, output_file=\"data/ultraman_stories.csv\"):\n",
    "    df = pd.DataFrame()\n",
    "    repeat = 1\n",
    "    for dynasty in dynasties:\n",
    "        for super_power in super_powers:\n",
    "            for story_type in story_types:\n",
    "                   for i in range(repeat):\n",
    "                        prompt = f\"\"\"请你用中文写一段300字的故事，情节跌宕起伏，讲述一位{dynasty}朝时期的英雄人物，名字叫墨素，穿越到现代，拥有了{super_power}这样的超能力，通过{story_type}的战斗，帮助奥特曼一起打败了怪兽的故事。\"\"\"\n",
    "                        story = gpt35(prompt)\n",
    "                        row = {\"dynasty\": dynasty, \"super_power\": super_power, \"story_type\": story_type, \"story\": story}\n",
    "                        row = pd.DataFrame([row])\n",
    "                        df = pd.concat([df, row], axis=0, ignore_index=True)\n",
    "\n",
    "    df.to_csv(\"data/ultraman_stories.csv\")\n",
    "\n",
    "prepare_stories(dynasties, super_powers, story_types)\n"
   ]
  },
  {
   "cell_type": "code",
   "execution_count": 8,
   "metadata": {},
   "outputs": [
    {
     "name": "stdout",
     "output_type": "stream",
     "text": [
      "Analyzing...\n",
      "\n",
      "- Based on your file extension, your file is formatted as a CSV file\n",
      "- Your file contains 9 prompt-completion pairs. In general, we recommend having at least a few hundred examples. We've found that performance tends to linearly increase for every doubling of the number of examples\n",
      "- All prompts end with suffix `,轻松`\n",
      "- All completions end with suffix `。`\n",
      "  WARNING: Some of your completions contain the suffix `。` more than once. We suggest that you review your completions and add a unique ending\n",
      "- The completion should start with a whitespace character (` `). This tends to produce better results due to the tokenization we use. See https://platform.openai.com/docs/guides/fine-tuning/preparing-your-dataset for more details\n",
      "\n",
      "Based on the analysis we will perform the following actions:\n",
      "- [Necessary] Your format `CSV` will be converted to `JSONL`\n",
      "- [Recommended] Add a whitespace character to the beginning of the completion [Y/n]: Y\n",
      "\n",
      "\n",
      "Your data will be written to a new JSONL file. Proceed [Y/n]: Y\n",
      "\n",
      "Wrote modified file to `data/prepared_data_prepared.jsonl`\n",
      "Feel free to take a look!\n",
      "\n",
      "Now use that file when fine-tuning:\n",
      "> openai api fine_tunes.create -t \"data/prepared_data_prepared.jsonl\"\n",
      "\n",
      "After you’ve fine-tuned a model, remember that your prompt has to end with the indicator string `,轻松` for the model to start generating completions, rather than continuing with the prompt. Make sure to include `stop=[\"。\"]` so that the generated texts ends at the expected place.\n",
      "Once your model starts training, it'll approximately take 2.57 minutes to train a `curie` model, and less for `ada` and `babbage`. Queue will approximately take half an hour per job ahead of you.\n"
     ]
    },
    {
     "data": {
      "text/plain": [
       "CompletedProcess(args=['openai', 'tools', 'fine_tunes.prepare_data', '--file', 'data/prepared_data.csv', '--quiet'], returncode=0)"
      ]
     },
     "execution_count": 8,
     "metadata": {},
     "output_type": "execute_result"
    }
   ],
   "source": [
    "df = pd.read_csv(\"data/ultraman_stories.csv\")\n",
    "df['sub_prompt'] = df['dynasty'] + \",\" + df['super_power'] + \",\" + df['story_type']\n",
    "prepared_data = df.loc[:,['sub_prompt','story']]\n",
    "prepared_data.rename(columns={'sub_prompt':'prompt', 'story':'completion'}, inplace=True)\n",
    "prepared_data.to_csv('data/prepared_data.csv',index=False)\n",
    "\n",
    "import subprocess\n",
    "\n",
    "subprocess.run('openai tools fine_tunes.prepare_data --file data/prepared_data.csv --quiet'.split())\n"
   ]
  },
  {
   "cell_type": "markdown",
   "metadata": {},
   "source": [
    "上传文件\n",
    "\n",
    "openai api files.create --file data/prepared_data_prepared.jsonl --purpose fine-tune\n",
    "\n",
    "微调\n",
    "\n",
    "client.fine_tuning.jobs.create(\n",
    "  training_file=\"file-abc123\", \n",
    "  model=\"gpt-3.5-turbo\"\n",
    ")\n",
    "\n",
    "查看 所有上传files\n",
    "\n",
    "openai api files.list"
   ]
  },
  {
   "cell_type": "code",
   "execution_count": null,
   "metadata": {},
   "outputs": [],
   "source": []
  },
  {
   "cell_type": "code",
   "execution_count": null,
   "metadata": {},
   "outputs": [],
   "source": [
    "client.files.create(\n",
    "  file=open(\"mydata.jsonl\", \"rb\"),\n",
    "  purpose=\"fine-tune\"\n",
    ")"
   ]
  },
  {
   "cell_type": "code",
   "execution_count": 20,
   "metadata": {},
   "outputs": [
    {
     "data": {
      "text/plain": [
       "FineTuningJob(id='ftjob-gztrHnHeJWsWYezpMG9NQiBf', created_at=1728811743, error=Error(code=None, message=None, param=None), fine_tuned_model=None, finished_at=None, hyperparameters=Hyperparameters(n_epochs='auto', batch_size='auto', learning_rate_multiplier='auto'), model='davinci-002', object='fine_tuning.job', organization_id='org-Shug8mxv0Ze2jzMvdpj0DGHL', result_files=[], seed=328079606, status='validating_files', trained_tokens=None, training_file='file-za4rxgcr3TOd5DzPagJrJY78', validation_file=None, estimated_finish=None, integrations=[], user_provided_suffix=None)"
      ]
     },
     "execution_count": 20,
     "metadata": {},
     "output_type": "execute_result"
    }
   ],
   "source": [
    "client.fine_tuning.jobs.create(\n",
    "  training_file=\"file-za4rxgcr3TOd5DzPagJrJY78\", \n",
    "  model=\"davinci-002\"\n",
    ")"
   ]
  },
  {
   "cell_type": "code",
   "execution_count": 24,
   "metadata": {},
   "outputs": [
    {
     "data": {
      "text/plain": [
       "FineTuningJob(id='ftjob-gztrHnHeJWsWYezpMG9NQiBf', created_at=1728811743, error=Error(code=None, message=None, param=None), fine_tuned_model='ft:davinci-002:personal::AHpGlDBh', finished_at=1728812017, hyperparameters=Hyperparameters(n_epochs=9, batch_size=1, learning_rate_multiplier=16), model='davinci-002', object='fine_tuning.job', organization_id='org-Shug8mxv0Ze2jzMvdpj0DGHL', result_files=['file-JUdTHQ9EMj0kTOwKA6vJNVJV'], seed=328079606, status='succeeded', trained_tokens=76050, training_file='file-za4rxgcr3TOd5DzPagJrJY78', validation_file=None, estimated_finish=None, integrations=[], user_provided_suffix=None)"
      ]
     },
     "execution_count": 24,
     "metadata": {},
     "output_type": "execute_result"
    }
   ],
   "source": [
    "# Retrieve the state of a fine-tune\n",
    "client.fine_tuning.jobs.retrieve(\"ftjob-gztrHnHeJWsWYezpMG9NQiBf\")"
   ]
  },
  {
   "cell_type": "code",
   "execution_count": 25,
   "metadata": {},
   "outputs": [
    {
     "data": {
      "text/plain": [
       "SyncCursorPage[FineTuningJobEvent](data=[FineTuningJobEvent(id='ftevent-MNLzhjMkyzXZTOL32NPtj11z', created_at=1728812030, level='info', message='The job has successfully completed', object='fine_tuning.job.event', data={}, type='message'), FineTuningJobEvent(id='ftevent-FcYgbrCYkVuAGZlmlge67amw', created_at=1728812029, level='info', message='The job has successfully completed', object='fine_tuning.job.event', data={}, type='message'), FineTuningJobEvent(id='ftevent-OmIL4ajEarLdxvpbnwsF1qVe', created_at=1728812020, level='info', message='New fine-tuned model created', object='fine_tuning.job.event', data={}, type='message'), FineTuningJobEvent(id='ftevent-AZIQXW4mddGsILfAE5xYi1mR', created_at=1728812020, level='info', message='Checkpoint created at step 88', object='fine_tuning.job.event', data={}, type='message'), FineTuningJobEvent(id='ftevent-vq5sdbtnVcudlcvuBFyeuynU', created_at=1728812020, level='info', message='Checkpoint created at step 77', object='fine_tuning.job.event', data={}, type='message'), FineTuningJobEvent(id='ftevent-kXhgEySvVOUGtClERqvYUDgk', created_at=1728812005, level='info', message='Step 99/99: training loss=0.00', object='fine_tuning.job.event', data={'step': 99, 'train_loss': 0.0002981225261464715, 'total_steps': 99, 'train_mean_token_accuracy': 1.0}, type='metrics'), FineTuningJobEvent(id='ftevent-QSknTuMmDnU8feMbvyfaULUK', created_at=1728811991, level='info', message='Step 98/99: training loss=0.01', object='fine_tuning.job.event', data={'step': 98, 'train_loss': 0.013255879282951355, 'total_steps': 99, 'train_mean_token_accuracy': 0.9973045587539673}, type='metrics'), FineTuningJobEvent(id='ftevent-wrg1cC30rvdKiBv01GXkrDxT', created_at=1728811991, level='info', message='Step 97/99: training loss=0.01', object='fine_tuning.job.event', data={'step': 97, 'train_loss': 0.012798909097909927, 'total_steps': 99, 'train_mean_token_accuracy': 0.9972066879272461}, type='metrics'), FineTuningJobEvent(id='ftevent-Gb5A9kGZsEk58THRJZkKbYsL', created_at=1728811991, level='info', message='Step 96/99: training loss=0.00', object='fine_tuning.job.event', data={'step': 96, 'train_loss': 0.0049821422435343266, 'total_steps': 99, 'train_mean_token_accuracy': 1.0}, type='metrics'), FineTuningJobEvent(id='ftevent-cyVHa8dELM0pHLc0Vh0ZcuC2', created_at=1728811991, level='info', message='Step 95/99: training loss=0.01', object='fine_tuning.job.event', data={'step': 95, 'train_loss': 0.007173411548137665, 'total_steps': 99, 'train_mean_token_accuracy': 0.9985401630401611}, type='metrics')], object='list', has_more=True)"
      ]
     },
     "execution_count": 25,
     "metadata": {},
     "output_type": "execute_result"
    }
   ],
   "source": [
    "# List up to 10 events from a fine-tuning job\n",
    "client.fine_tuning.jobs.list_events(fine_tuning_job_id=\"ftjob-gztrHnHeJWsWYezpMG9NQiBf\", limit=10)"
   ]
  },
  {
   "cell_type": "code",
   "execution_count": 29,
   "metadata": {},
   "outputs": [],
   "source": [
    "def gpt_fintune(prompt, max_tokens=2048, temperature=0.5, top_p=1, frequency_penalty=0, presence_penalty=0):\n",
    "    response = client.completions.create(\n",
    "        model=\"ft:davinci-002:personal::AHpGlDBh\",\n",
    "        prompt=prompt,\n",
    "        max_tokens=max_tokens,\n",
    "        temperature=temperature,\n",
    "        top_p=top_p,\n",
    "        frequency_penalty=frequency_penalty,\n",
    "        presence_penalty=presence_penalty)\n",
    "    print(response)\n",
    "    return response.choices[0].text"
   ]
  },
  {
   "cell_type": "code",
   "execution_count": 30,
   "metadata": {},
   "outputs": [
    {
     "name": "stdout",
     "output_type": "stream",
     "text": [
      "Completion(id='cmpl-AHpQe7Jko8KBkAB81KHRR4GxKbqvp', choices=[CompletionChoice(finish_reason='stop', index=0, logprobs=None, text=',生存 \\n\\n墨素是五代时期的一位英雄人物，他生性勇敢，武艺高强，被人们称为“铁血战神”。他曾经在战场上立下了无数功勋，为国家保卫了边疆安宁。然而，命运却给了他一个意想不到的转折。\\n\\n一天，墨素突然穿越到了现代，发现自己拥有了超能力。他惊讶不已，但很快就意识到这是上天赐予他的新使命。他决定利用这个能力，继续为正义而战。\\n\\n就在此时，一场怪物袭击了城市，人们惊慌失措，无助地逃窜。墨素决定挺身而出，帮助奥特曼一起对抗怪物。他利用自己的超能力，轻松地躲避怪物的攻击，并且准确地预测出它的下一步动作。\\n\\n奥特曼感激地看着墨素，称赞他是一位真正的英雄。他们一起合力，最终将怪物打败。人们惊叹地纷纷欢呼，称墨素为“城市的新英雄”。\\n\\n墨素却并不自满，他知道自己的能力只是上天赐予的一次恩赐，而不是自己的全部。他决定继续努力，成为更加强大的战神。\\n\\n随后，墨素和奥特曼成为了好朋友，一起保卫着城市的安全。他们经常一起出击，对抗各种恶势力。墨素的战斗技巧得到了进一步的提高，他能够与奥特曼并驾齐驱，击败更加强大的怪物。\\n\\n随着时间的推移，墨素逐渐融入了现代社会，他学习了现代科技，帮助奥特曼改良装备，使他们的战斗更加灵活强大。\\n\\n然而，越来越多的怪物开始出现，它们的力量也越来越强大。奥特曼和墨素面临着前所未有的挑战。\\n\\n为了保卫城市的和平，奥特曼和墨素不断地磨练自己的技能，最终在一次激烈的战斗中，将最强大的怪物击败。\\n\\n人们惊叹地纷纷欢呼，称墨素和奥特曼为“城市的最强英雄”。\\n\\n墨素感激地看着人们，他知道自己的力量来自上天，而不是自己的全部。他选择了保护人民，而不是自己的私利，成为了一位真正的英雄。\\n\\n墨素和奥特曼的友谊也变得更加深厚，他们一起回忆起过去的战斗，分享彼此的故事。\\n\\n墨素最后选择留下来，成为了现代社会中的一位传奇人物。他的英勇事迹被后人传颂，他的名字被铭记在人们的心中，永远不会被遗忘。\\n\\n墨素用自己的力量，继续保卫着正义和和平，成为了一代又一代人心中的英雄。他的故事将永远被人们传颂，他的勇气和牺牲精神将被后人永远敬佩。墨素，你是一位真正的英雄！\\n\\nOP: 墨素的故事，让人们意识到，无论身处何时何地，只要心怀正义和勇气，就可以成为一位英雄。他用自己的力量，带给了人们希望和勇气，成为了一代又一代人心中的英雄。他的勇敢和牺牲精神，将被后人永远敬佩。墨素，你是一位真正的英雄！\\n\\nOP: 墨素的故事，也将永远被人们传颂，他的勇气和牺牲精神，将被后人永远敬佩。墨素，你是一位真正的英雄！\\n\\nOP: 墨素的故事，也将永远被人们传颂，他的勇气和牺牲精神，将被后人永远敬佩。墨素，你是一位真正的英雄！\\n\\nOP: 墨素的故事，也将永远被人们传颂，他的勇气和牺牲精神，将被后人永远敬佩。墨素，你是一位真正的英雄！\\n\\nOP: 墨素的故事，也将永远被人们传颂，他的勇气和牺牲精神，将被后人永远敬佩。墨素，你是一位真正的英雄！\\n\\nOP: 墨素的故事，也将永远被人们传颂，他的勇气和牺牲精神，将被后人永远敬佩。墨素，你是一位真正的英雄！\\n\\nOP: 墨素的故事，也将永远被人们传颂，他的勇气和牺牲精神，将被后人永远敬佩。墨素，你是一位真正的英雄！\\n\\nOP: 墨素的故事，也将永远被人们传颂，他的勇气和牺牲精神，将被后人永远敬佩。墨素，你是一位真正的英雄！\\n\\nOP: 墨素的故事，也将永远被人们传颂，他的勇气和牺牲精神，将被后人永远敬佩。墨素，你是一位真正的英雄！\\n\\nOP: 墨素的故事，也将永远被人们传颂，他的勇气和牺牲精神，将被后人永远敬佩。墨素，你是一位真正的英雄！\\n\\nOP: 墨素的故事，也将永远被人们传颂，他的勇气和牺牲精神，将被后人永远敬佩。墨素，你是一位真正的英雄！\\n')], created=1728812632, model='ft:davinci-002:personal::AHpGlDBh', object='text_completion', system_fingerprint=None, usage=CompletionUsage(completion_tokens=1947, prompt_tokens=11, total_tokens=1958, completion_tokens_details=None, prompt_tokens_details=None))\n",
      ",生存 \n",
      "\n",
      "墨素是五代时期的一位英雄人物，他生性勇敢，武艺高强，被人们称为“铁血战神”。他曾经在战场上立下了无数功勋，为国家保卫了边疆安宁。然而，命运却给了他一个意想不到的转折。\n",
      "\n",
      "一天，墨素突然穿越到了现代，发现自己拥有了超能力。他惊讶不已，但很快就意识到这是上天赐予他的新使命。他决定利用这个能力，继续为正义而战。\n",
      "\n",
      "就在此时，一场怪物袭击了城市，人们惊慌失措，无助地逃窜。墨素决定挺身而出，帮助奥特曼一起对抗怪物。他利用自己的超能力，轻松地躲避怪物的攻击，并且准确地预测出它的下一步动作。\n",
      "\n",
      "奥特曼感激地看着墨素，称赞他是一位真正的英雄。他们一起合力，最终将怪物打败。人们惊叹地纷纷欢呼，称墨素为“城市的新英雄”。\n",
      "\n",
      "墨素却并不自满，他知道自己的能力只是上天赐予的一次恩赐，而不是自己的全部。他决定继续努力，成为更加强大的战神。\n",
      "\n",
      "随后，墨素和奥特曼成为了好朋友，一起保卫着城市的安全。他们经常一起出击，对抗各种恶势力。墨素的战斗技巧得到了进一步的提高，他能够与奥特曼并驾齐驱，击败更加强大的怪物。\n",
      "\n",
      "随着时间的推移，墨素逐渐融入了现代社会，他学习了现代科技，帮助奥特曼改良装备，使他们的战斗更加灵活强大。\n",
      "\n",
      "然而，越来越多的怪物开始出现，它们的力量也越来越强大。奥特曼和墨素面临着前所未有的挑战。\n",
      "\n",
      "为了保卫城市的和平，奥特曼和墨素不断地磨练自己的技能，最终在一次激烈的战斗中，将最强大的怪物击败。\n",
      "\n",
      "人们惊叹地纷纷欢呼，称墨素和奥特曼为“城市的最强英雄”。\n",
      "\n",
      "墨素感激地看着人们，他知道自己的力量来自上天，而不是自己的全部。他选择了保护人民，而不是自己的私利，成为了一位真正的英雄。\n",
      "\n",
      "墨素和奥特曼的友谊也变得更加深厚，他们一起回忆起过去的战斗，分享彼此的故事。\n",
      "\n",
      "墨素最后选择留下来，成为了现代社会中的一位传奇人物。他的英勇事迹被后人传颂，他的名字被铭记在人们的心中，永远不会被遗忘。\n",
      "\n",
      "墨素用自己的力量，继续保卫着正义和和平，成为了一代又一代人心中的英雄。他的故事将永远被人们传颂，他的勇气和牺牲精神将被后人永远敬佩。墨素，你是一位真正的英雄！\n",
      "\n",
      "OP: 墨素的故事，让人们意识到，无论身处何时何地，只要心怀正义和勇气，就可以成为一位英雄。他用自己的力量，带给了人们希望和勇气，成为了一代又一代人心中的英雄。他的勇敢和牺牲精神，将被后人永远敬佩。墨素，你是一位真正的英雄！\n",
      "\n",
      "OP: 墨素的故事，也将永远被人们传颂，他的勇气和牺牲精神，将被后人永远敬佩。墨素，你是一位真正的英雄！\n",
      "\n",
      "OP: 墨素的故事，也将永远被人们传颂，他的勇气和牺牲精神，将被后人永远敬佩。墨素，你是一位真正的英雄！\n",
      "\n",
      "OP: 墨素的故事，也将永远被人们传颂，他的勇气和牺牲精神，将被后人永远敬佩。墨素，你是一位真正的英雄！\n",
      "\n",
      "OP: 墨素的故事，也将永远被人们传颂，他的勇气和牺牲精神，将被后人永远敬佩。墨素，你是一位真正的英雄！\n",
      "\n",
      "OP: 墨素的故事，也将永远被人们传颂，他的勇气和牺牲精神，将被后人永远敬佩。墨素，你是一位真正的英雄！\n",
      "\n",
      "OP: 墨素的故事，也将永远被人们传颂，他的勇气和牺牲精神，将被后人永远敬佩。墨素，你是一位真正的英雄！\n",
      "\n",
      "OP: 墨素的故事，也将永远被人们传颂，他的勇气和牺牲精神，将被后人永远敬佩。墨素，你是一位真正的英雄！\n",
      "\n",
      "OP: 墨素的故事，也将永远被人们传颂，他的勇气和牺牲精神，将被后人永远敬佩。墨素，你是一位真正的英雄！\n",
      "\n",
      "OP: 墨素的故事，也将永远被人们传颂，他的勇气和牺牲精神，将被后人永远敬佩。墨素，你是一位真正的英雄！\n",
      "\n",
      "OP: 墨素的故事，也将永远被人们传颂，他的勇气和牺牲精神，将被后人永远敬佩。墨素，你是一位真正的英雄！\n",
      "\n"
     ]
    }
   ],
   "source": [
    "print(gpt_fintune(\"五代,隐身,艰难\"))"
   ]
  }
 ],
 "metadata": {
  "kernelspec": {
   "display_name": "langchain",
   "language": "python",
   "name": "python3"
  },
  "language_info": {
   "codemirror_mode": {
    "name": "ipython",
    "version": 3
   },
   "file_extension": ".py",
   "mimetype": "text/x-python",
   "name": "python",
   "nbconvert_exporter": "python",
   "pygments_lexer": "ipython3",
   "version": "3.9.19"
  }
 },
 "nbformat": 4,
 "nbformat_minor": 2
}
