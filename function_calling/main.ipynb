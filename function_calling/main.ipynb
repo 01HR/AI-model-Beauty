{
 "cells": [
  {
   "cell_type": "code",
   "execution_count": 2,
   "metadata": {},
   "outputs": [],
   "source": [
    "import json\n",
    "def add(x, y):\n",
    "    return json.dumps({\"result\" : x + y})\n",
    "\n",
    "def subtract(x, y):\n",
    "    return json.dumps({\"result\" : x - y})\n",
    "\n",
    "def multiply(x, y):\n",
    "    return json.dumps({\"result\" : x * y})\n",
    "\n",
    "def divide(x, y):\n",
    "    if y == 0:\n",
    "        return \"Error! Division by zero.\"\n",
    "    return json.dumps({\"result\" : x / y})\n",
    "\n",
    "def get_tools_definition(function_name, description):\n",
    "    return {\n",
    "            \"type\": \"function\",\n",
    "            \"function\": {\n",
    "                \"name\": function_name,\n",
    "                \"description\": description,\n",
    "                \"parameters\": {\n",
    "                    \"type\": \"object\",\n",
    "                    \"properties\": {\n",
    "                        \"x\": {\n",
    "                            \"type\": \"number\",\n",
    "                            \"description\": \"The first number\",\n",
    "                        },\n",
    "                        \"y\": {\n",
    "                            \"type\": \"number\",\n",
    "                            \"description\": \"the second number\",\n",
    "                        },\n",
    "                    },\n",
    "                    \"required\": [\"x\", \"y\"],\n",
    "                },\n",
    "            },\n",
    "        }\n",
    "\n",
    "tools = [\n",
    "    get_tools_definition(\"add\", \"add x to y\"),\n",
    "    get_tools_definition(\"subtract\", \"subtract y from x\"),\n",
    "    get_tools_definition(\"multiply\", \"x multiply y\"),\n",
    "    get_tools_definition(\"divide\", \"x divide y\"),\n",
    "]\n",
    "\n"
   ]
  },
  {
   "cell_type": "code",
   "execution_count": 3,
   "metadata": {},
   "outputs": [],
   "source": [
    "from openai import OpenAI\n",
    "import json\n",
    "\n",
    "client = OpenAI()\n",
    "\n",
    "messages = [{\"role\": \"user\", \"content\": \"What does 1024 + 10086 equal to?\"}]\n",
    "response = client.chat.completions.create(\n",
    "    model=\"gpt-3.5-turbo-0125\",\n",
    "    messages=messages,\n",
    "    tools=tools,\n",
    "    tool_choice=\"auto\",  # auto is default, but we'll be explicit\n",
    ")"
   ]
  },
  {
   "cell_type": "code",
   "execution_count": 4,
   "metadata": {},
   "outputs": [
    {
     "name": "stdout",
     "output_type": "stream",
     "text": [
      "None\n"
     ]
    }
   ],
   "source": [
    "response_message = response.choices[0].message\n",
    "print(response_message.content)"
   ]
  },
  {
   "cell_type": "code",
   "execution_count": 9,
   "metadata": {},
   "outputs": [
    {
     "name": "stdout",
     "output_type": "stream",
     "text": [
      "[ChatCompletionMessageToolCall(id='call_cGQpBmKgST5jZyh4JHXArKI5', function=Function(arguments='{\"x\":1024,\"y\":10086}', name='add'), type='function')]\n"
     ]
    }
   ],
   "source": [
    "tools_info = response_message.tool_calls\n",
    "print(tools_info)"
   ]
  },
  {
   "cell_type": "code",
   "execution_count": 10,
   "metadata": {},
   "outputs": [
    {
     "name": "stdout",
     "output_type": "stream",
     "text": [
      "{\"result\": 11110}\n"
     ]
    }
   ],
   "source": [
    "tool_calls = response_message.tool_calls\n",
    "available_functions = {\n",
    "    \"add\": add,\n",
    "    \"subtract\": subtract,\n",
    "    \"multiply\": multiply,\n",
    "    \"divide\": divide,\n",
    "}\n",
    "\n",
    "for tool_call in tool_calls:\n",
    "    function_name = tool_call.function.name\n",
    "    tool_call_id = tool_call.id\n",
    "    function_to_call = available_functions[function_name]\n",
    "    function_args = json.loads(tool_call.function.arguments)\n",
    "\n",
    "    # 执行函数结果\n",
    "    function_response = function_to_call(\n",
    "        x=function_args.get(\"x\"),\n",
    "        y=function_args.get(\"y\"),\n",
    "    )\n",
    "    print(function_response)\n",
    "    # 从 tool_calls 中拿到需要调用的函数以及参数，并且实际调用对应的函数"
   ]
  },
  {
   "cell_type": "code",
   "execution_count": null,
   "metadata": {},
   "outputs": [],
   "source": [
    "messages.append(response_message)\n",
    "messages.append(\n",
    "    {\n",
    "        \"tool_call_id\": tool_call_id,\n",
    "        \"role\": \"tool\",\n",
    "        \"name\": function_name,\n",
    "        \"content\": str(function_response),\n",
    "    }\n",
    ")  \n",
    "\n",
    "final_response = client.chat.completions.create(\n",
    "    model=\"gpt-3.5-turbo-0125\",\n",
    "    messages=messages,\n",
    ")\n",
    "print(final_response.choices[0].message.content)"
   ]
  },
  {
   "cell_type": "code",
   "execution_count": 8,
   "metadata": {},
   "outputs": [],
   "source": [
    "messages.append(response_message)"
   ]
  },
  {
   "cell_type": "code",
   "execution_count": null,
   "metadata": {},
   "outputs": [],
   "source": []
  }
 ],
 "metadata": {
  "kernelspec": {
   "display_name": "base",
   "language": "python",
   "name": "python3"
  },
  "language_info": {
   "codemirror_mode": {
    "name": "ipython",
    "version": 3
   },
   "file_extension": ".py",
   "mimetype": "text/x-python",
   "name": "python",
   "nbconvert_exporter": "python",
   "pygments_lexer": "ipython3",
   "version": "3.9.12"
  }
 },
 "nbformat": 4,
 "nbformat_minor": 2
}
